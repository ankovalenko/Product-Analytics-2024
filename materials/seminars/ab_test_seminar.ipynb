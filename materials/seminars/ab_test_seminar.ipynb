{
 "cells": [
  {
   "cell_type": "code",
   "execution_count": 6,
   "metadata": {
    "executionInfo": {
     "elapsed": 451,
     "status": "ok",
     "timestamp": 1622826437290,
     "user": {
      "displayName": "Александр Сахнов",
      "photoUrl": "https://lh3.googleusercontent.com/a-/AOh14GgMDvqDsvLWycvxubr8wFo4sHGSLax7iRNm_7R7zaQ=s64",
      "userId": "16236737735295898069"
     },
     "user_tz": -180
    },
    "id": "dZCme5a4TQFe"
   },
   "outputs": [],
   "source": [
    "import numpy as np\n",
    "import pandas as pd\n",
    "import matplotlib.pyplot as plt\n",
    "import seaborn as sns\n",
    "import scipy.stats as stats\n",
    "import plotly.express as px\n",
    "from plotly.subplots import make_subplots\n",
    "\n",
    "from sklearn.linear_model import RidgeCV\n",
    "from sklearn.model_selection import train_test_split"
   ]
  },
  {
   "cell_type": "code",
   "execution_count": null,
   "metadata": {},
   "outputs": [],
   "source": []
  },
  {
   "cell_type": "code",
   "execution_count": 3,
   "metadata": {
    "executionInfo": {
     "elapsed": 5,
     "status": "ok",
     "timestamp": 1622826437291,
     "user": {
      "displayName": "Александр Сахнов",
      "photoUrl": "https://lh3.googleusercontent.com/a-/AOh14GgMDvqDsvLWycvxubr8wFo4sHGSLax7iRNm_7R7zaQ=s64",
      "userId": "16236737735295898069"
     },
     "user_tz": -180
    },
    "id": "uRQVCluKp8jK"
   },
   "outputs": [],
   "source": [
    "plt.rcParams['figure.figsize'] = (12, 8)"
   ]
  },
  {
   "cell_type": "markdown",
   "metadata": {
    "id": "Yz2jqbOCTQFh"
   },
   "source": [
    "# 1. **Рекомендации в онлайн магазине**\n",
    "Есть онлайн магазин, в котором продаются мобильные телефоны и комплектующие (наушники, зарядки, чехлы и т.д.). На странице просмотра телефона был блок рекомендаций с похожими моделями и аксессуарами. В рамках сотрудничеста с компанией делающей чехлы с уникальными рисунками, решили попробовать заменить блок рекомендаций на рекламу чехлов этой компании.\n",
    "\n",
    "**Гипотеза:**\n",
    "1. изменили блок рекомендаций на рекомендации красивых чехлов\n",
    "2. ожидаем что это приведёт к увеличению продаж аксессуаров\n",
    "3. сможем увидеть это по метрике - средняя выручка от продажи аксессуаров\n",
    "\n",
    "В качестве метрики взяли продажи всех аксессуаров, а не только чехлов, тк реклама именно чехлов может каннибализировать продажу других видов аксессуаров.\n",
    "\n",
    "**Дополнительные метрики:**\n",
    "- продажи чехлов - чтобы понимать, что чехлы продаются и интересны покупателям;\n",
    "- продажи других аксессуаров - реклама только чехлов может каннибализировать продажи других аксессуаров;\n",
    "- трафик (кол-во покупателей на кол-во сессий просмотра сайта) - вдруг наше изменение будут настолько плохим, что покупателей станет меньше;\n",
    "- средний чек - возможно наше изменение стимулирует увеличение покупок чехлов, что увеличит средний чек;\n",
    "- суммарные продажи телефонов и аксессуаров - может быть так, что трафик уменьшится, но средний чек увеличится, и суммарная выручка не упадёт.\n",
    "\n",
    "**Пилот**:\n",
    "- случайно разбиваем пользователей, зашедших на сайт, в контрольную или пилотную группы;\n",
    "- в контрольной группе показываем старые рекомендации, в пилотной - новые;\n",
    "- ждём 14 дней;\n",
    "- за это время в группах оказалось по 110523 пользовательских сессии."
   ]
  },
  {
   "cell_type": "markdown",
   "metadata": {
    "id": "kpjNxXrLTQFk"
   },
   "source": [
    "## Загрузим данные\n",
    "\n",
    "Заметим, что в представленной базе данных уже проведена фильтрация сессий без покупок. Они сейчас не существенны, про их значение мы поговорим чуть позже."
   ]
  },
  {
   "cell_type": "code",
   "execution_count": 48,
   "metadata": {
    "executionInfo": {
     "elapsed": 4,
     "status": "ok",
     "timestamp": 1622826437291,
     "user": {
      "displayName": "Александр Сахнов",
      "photoUrl": "https://lh3.googleusercontent.com/a-/AOh14GgMDvqDsvLWycvxubr8wFo4sHGSLax7iRNm_7R7zaQ=s64",
      "userId": "16236737735295898069"
     },
     "user_tz": -180
    },
    "id": "v8Hg_pLdXCuP"
   },
   "outputs": [],
   "source": [
    "URL_BASE = 'https://raw.githubusercontent.com/statistics-datasets/kc/main/'\n",
    "\n",
    "def read_database(file_name):\n",
    "    return pd.read_csv(URL_BASE + file_name, index_col=0)"
   ]
  },
  {
   "cell_type": "code",
   "execution_count": 49,
   "metadata": {
    "colab": {
     "base_uri": "https://localhost:8080/",
     "height": 422
    },
    "executionInfo": {
     "elapsed": 432,
     "status": "ok",
     "timestamp": 1622826437719,
     "user": {
      "displayName": "Александр Сахнов",
      "photoUrl": "https://lh3.googleusercontent.com/a-/AOh14GgMDvqDsvLWycvxubr8wFo4sHGSLax7iRNm_7R7zaQ=s64",
      "userId": "16236737735295898069"
     },
     "user_tz": -180
    },
    "id": "lLTt6wynTQFk",
    "outputId": "bf946c33-553e-41da-8e78-a7f5c022c728"
   },
   "outputs": [
    {
     "name": "stdout",
     "output_type": "stream",
     "text": [
      "data shape : (6452, 5)\n"
     ]
    },
    {
     "data": {
      "text/html": [
       "<div>\n",
       "<style scoped>\n",
       "    .dataframe tbody tr th:only-of-type {\n",
       "        vertical-align: middle;\n",
       "    }\n",
       "\n",
       "    .dataframe tbody tr th {\n",
       "        vertical-align: top;\n",
       "    }\n",
       "\n",
       "    .dataframe thead th {\n",
       "        text-align: right;\n",
       "    }\n",
       "</style>\n",
       "<table border=\"1\" class=\"dataframe\">\n",
       "  <thead>\n",
       "    <tr style=\"text-align: right;\">\n",
       "      <th></th>\n",
       "      <th>day</th>\n",
       "      <th>cost_phones</th>\n",
       "      <th>cost_cases</th>\n",
       "      <th>cost_accessories</th>\n",
       "      <th>group</th>\n",
       "    </tr>\n",
       "  </thead>\n",
       "  <tbody>\n",
       "    <tr>\n",
       "      <th>0</th>\n",
       "      <td>1</td>\n",
       "      <td>21900</td>\n",
       "      <td>2300</td>\n",
       "      <td>3300</td>\n",
       "      <td>control</td>\n",
       "    </tr>\n",
       "    <tr>\n",
       "      <th>1</th>\n",
       "      <td>1</td>\n",
       "      <td>43400</td>\n",
       "      <td>0</td>\n",
       "      <td>0</td>\n",
       "      <td>control</td>\n",
       "    </tr>\n",
       "    <tr>\n",
       "      <th>2</th>\n",
       "      <td>1</td>\n",
       "      <td>31500</td>\n",
       "      <td>0</td>\n",
       "      <td>0</td>\n",
       "      <td>control</td>\n",
       "    </tr>\n",
       "    <tr>\n",
       "      <th>3</th>\n",
       "      <td>1</td>\n",
       "      <td>31000</td>\n",
       "      <td>0</td>\n",
       "      <td>0</td>\n",
       "      <td>control</td>\n",
       "    </tr>\n",
       "    <tr>\n",
       "      <th>4</th>\n",
       "      <td>1</td>\n",
       "      <td>50400</td>\n",
       "      <td>2300</td>\n",
       "      <td>5100</td>\n",
       "      <td>control</td>\n",
       "    </tr>\n",
       "    <tr>\n",
       "      <th>5</th>\n",
       "      <td>1</td>\n",
       "      <td>59000</td>\n",
       "      <td>0</td>\n",
       "      <td>0</td>\n",
       "      <td>control</td>\n",
       "    </tr>\n",
       "    <tr>\n",
       "      <th>6</th>\n",
       "      <td>1</td>\n",
       "      <td>31200</td>\n",
       "      <td>2200</td>\n",
       "      <td>0</td>\n",
       "      <td>control</td>\n",
       "    </tr>\n",
       "    <tr>\n",
       "      <th>7</th>\n",
       "      <td>1</td>\n",
       "      <td>37700</td>\n",
       "      <td>0</td>\n",
       "      <td>2700</td>\n",
       "      <td>control</td>\n",
       "    </tr>\n",
       "    <tr>\n",
       "      <th>8</th>\n",
       "      <td>1</td>\n",
       "      <td>20000</td>\n",
       "      <td>1500</td>\n",
       "      <td>0</td>\n",
       "      <td>control</td>\n",
       "    </tr>\n",
       "    <tr>\n",
       "      <th>9</th>\n",
       "      <td>1</td>\n",
       "      <td>39200</td>\n",
       "      <td>0</td>\n",
       "      <td>0</td>\n",
       "      <td>control</td>\n",
       "    </tr>\n",
       "  </tbody>\n",
       "</table>\n",
       "</div>"
      ],
      "text/plain": [
       "   day  cost_phones  cost_cases  cost_accessories    group\n",
       "0    1        21900        2300              3300  control\n",
       "1    1        43400           0                 0  control\n",
       "2    1        31500           0                 0  control\n",
       "3    1        31000           0                 0  control\n",
       "4    1        50400        2300              5100  control\n",
       "5    1        59000           0                 0  control\n",
       "6    1        31200        2200                 0  control\n",
       "7    1        37700           0              2700  control\n",
       "8    1        20000        1500                 0  control\n",
       "9    1        39200           0                 0  control"
      ]
     },
     "execution_count": 49,
     "metadata": {},
     "output_type": "execute_result"
    }
   ],
   "source": [
    "data = read_database('sem2_task1.csv')\n",
    "\n",
    "print(f'data shape : {data.shape}')\n",
    "data.head(10)"
   ]
  },
  {
   "cell_type": "markdown",
   "metadata": {
    "id": "QfVls6PMbrHw"
   },
   "source": [
    "Для начала мы можем посмотреть на простую, но вместе с тем красивую картинку. В пилотной группе трафик больше, чем в контрольной."
   ]
  },
  {
   "cell_type": "code",
   "execution_count": 6,
   "metadata": {
    "colab": {
     "base_uri": "https://localhost:8080/",
     "height": 521
    },
    "executionInfo": {
     "elapsed": 5,
     "status": "ok",
     "timestamp": 1622826438085,
     "user": {
      "displayName": "Александр Сахнов",
      "photoUrl": "https://lh3.googleusercontent.com/a-/AOh14GgMDvqDsvLWycvxubr8wFo4sHGSLax7iRNm_7R7zaQ=s64",
      "userId": "16236737735295898069"
     },
     "user_tz": -180
    },
    "id": "Zb3Qd1CaOIgJ",
    "outputId": "78973ec9-dd1c-427a-fc8a-51a82258785f"
   },
   "outputs": [
    {
     "name": "stderr",
     "output_type": "stream",
     "text": [
      "/var/folders/nh/hpqm4c910xb8tsrb1y2n3ymr0000gn/T/ipykernel_82278/1977566777.py:1: FutureWarning: \n",
      "\n",
      "Passing `palette` without assigning `hue` is deprecated and will be removed in v0.14.0. Assign the `x` variable to `hue` and set `legend=False` for the same effect.\n",
      "\n",
      "  sns.countplot(x='group', data=data, palette='hls')\n"
     ]
    },
    {
     "data": {
      "image/png": "[encoded data removed]",
      "text/plain": [
       "<Figure size 1200x800 with 1 Axes>"
      ]
     },
     "metadata": {},
     "output_type": "display_data"
    }
   ],
   "source": [
    "sns.countplot(x='group', data=data, palette='hls')\n",
    "plt.xticks(rotation=90)\n",
    "plt.grid()\n",
    "plt.show()"
   ]
  },
  {
   "cell_type": "markdown",
   "metadata": {
    "id": "WA_BeG5d4Aw3"
   },
   "source": [
    "## Дашборд эксперимента\n",
    "\n",
    "Вообще говоря нехорошо в процессе эксперимента подглядывать в данные. Тут можно долго говорить про эффект наблюдателя. Не хорошо, но иногда очень хочется.\n",
    "\n",
    "Просто убедимся, что в процессе запуска эксперимента мы не допустили катострофических ошибок -- метрики не упали в ноль."
   ]
  },
  {
   "cell_type": "code",
   "execution_count": 47,
   "metadata": {},
   "outputs": [
    {
     "data": {
      "application/vnd.plotly.v1+json": {
       "config": {
        "plotlyServerURL": "https://plot.ly"
       },
       "data": [
        {
         "hovertemplate": "group=control<br>day=%{x}<br>cost_phones=%{y}<extra></extra>",
         "legendgroup": "control",
         "line": {
          "color": "#636efa",
          "dash": "solid"
         },
         "marker": {
          "symbol": "circle"
         },
         "mode": "lines",
         "name": "control",
         "orientation": "v",
         "showlegend": true,
         "type": "scatter",
         "x": [
          1,
          2,
          3,
          4,
          5,
          6,
          7,
          8,
          9,
          10,
          11,
          12,
          13,
          14
         ],
         "xaxis": "x",
         "y": [
          8661700,
          9163300,
          9351400,
          9172100,
          7545600,
          8768800,
          7671200,
          8756100,
          8228800,
          8398700,
          7542800,
          8812100,
          7676000,
          9295200
         ],
         "yaxis": "y"
        },
        {
         "hovertemplate": "group=pilot<br>day=%{x}<br>cost_phones=%{y}<extra></extra>",
         "legendgroup": "pilot",
         "line": {
          "color": "#EF553B",
          "dash": "solid"
         },
         "marker": {
          "symbol": "circle"
         },
         "mode": "lines",
         "name": "pilot",
         "orientation": "v",
         "showlegend": true,
         "type": "scatter",
         "x": [
          1,
          2,
          3,
          4,
          5,
          6,
          7,
          8,
          9,
          10,
          11,
          12,
          13,
          14
         ],
         "xaxis": "x",
         "y": [
          9319700,
          8205700,
          8579100,
          9085700,
          8042800,
          9681600,
          9019900,
          9666000,
          9201900,
          8149000,
          8156400,
          8291700,
          9534500,
          7979900
         ],
         "yaxis": "y"
        },
        {
         "hovertemplate": "group=control<br>day=%{x}<br>cost_cases=%{y}<extra></extra>",
         "legendgroup": "control",
         "line": {
          "color": "#636efa",
          "dash": "solid"
         },
         "marker": {
          "symbol": "circle"
         },
         "mode": "lines",
         "name": "control",
         "orientation": "v",
         "showlegend": false,
         "type": "scatter",
         "x": [
          1,
          2,
          3,
          4,
          5,
          6,
          7,
          8,
          9,
          10,
          11,
          12,
          13,
          14
         ],
         "xaxis": "x2",
         "y": [
          171300,
          216700,
          196300,
          193100,
          159900,
          199700,
          186900,
          194000,
          165800,
          145300,
          175700,
          210200,
          159400,
          233200
         ],
         "yaxis": "y2"
        },
        {
         "hovertemplate": "group=pilot<br>day=%{x}<br>cost_cases=%{y}<extra></extra>",
         "legendgroup": "pilot",
         "line": {
          "color": "#EF553B",
          "dash": "solid"
         },
         "marker": {
          "symbol": "circle"
         },
         "mode": "lines",
         "name": "pilot",
         "orientation": "v",
         "showlegend": false,
         "type": "scatter",
         "x": [
          1,
          2,
          3,
          4,
          5,
          6,
          7,
          8,
          9,
          10,
          11,
          12,
          13,
          14
         ],
         "xaxis": "x2",
         "y": [
          216400,
          214500,
          209200,
          246300,
          175900,
          243200,
          243800,
          221000,
          239500,
          227800,
          242100,
          229800,
          247600,
          209900
         ],
         "yaxis": "y2"
        },
        {
         "hovertemplate": "group=control<br>day=%{x}<br>cost_accessories=%{y}<extra></extra>",
         "legendgroup": "control",
         "line": {
          "color": "#636efa",
          "dash": "solid"
         },
         "marker": {
          "symbol": "circle"
         },
         "mode": "lines",
         "name": "control",
         "orientation": "v",
         "showlegend": false,
         "type": "scatter",
         "x": [
          1,
          2,
          3,
          4,
          5,
          6,
          7,
          8,
          9,
          10,
          11,
          12,
          13,
          14
         ],
         "xaxis": "x3",
         "y": [
          204800,
          170700,
          184800,
          197800,
          129500,
          163500,
          162900,
          190600,
          181200,
          155100,
          152300,
          181400,
          153600,
          200000
         ],
         "yaxis": "y3"
        },
        {
         "hovertemplate": "group=pilot<br>day=%{x}<br>cost_accessories=%{y}<extra></extra>",
         "legendgroup": "pilot",
         "line": {
          "color": "#EF553B",
          "dash": "solid"
         },
         "marker": {
          "symbol": "circle"
         },
         "mode": "lines",
         "name": "pilot",
         "orientation": "v",
         "showlegend": false,
         "type": "scatter",
         "x": [
          1,
          2,
          3,
          4,
          5,
          6,
          7,
          8,
          9,
          10,
          11,
          12,
          13,
          14
         ],
         "xaxis": "x3",
         "y": [
          183700,
          143000,
          140900,
          178300,
          182500,
          138300,
          184700,
          247600,
          160200,
          147000,
          123200,
          167300,
          204700,
          148200
         ],
         "yaxis": "y3"
        },
        {
         "hovertemplate": "group=control<br>day=%{x}<br>cost_total=%{y}<extra></extra>",
         "legendgroup": "control",
         "line": {
          "color": "#636efa",
          "dash": "solid"
         },
         "marker": {
          "symbol": "circle"
         },
         "mode": "lines",
         "name": "control",
         "orientation": "v",
         "showlegend": false,
         "type": "scatter",
         "x": [
          1,
          2,
          3,
          4,
          5,
          6,
          7,
          8,
          9,
          10,
          11,
          12,
          13,
          14
         ],
         "xaxis": "x4",
         "y": [
          9037800,
          9550700,
          9732500,
          9563000,
          7835000,
          9132000,
          8021000,
          9140700,
          8575800,
          8699100,
          7870800,
          9203700,
          7989000,
          9728400
         ],
         "yaxis": "y4"
        },
        {
         "hovertemplate": "group=pilot<br>day=%{x}<br>cost_total=%{y}<extra></extra>",
         "legendgroup": "pilot",
         "line": {
          "color": "#EF553B",
          "dash": "solid"
         },
         "marker": {
          "symbol": "circle"
         },
         "mode": "lines",
         "name": "pilot",
         "orientation": "v",
         "showlegend": false,
         "type": "scatter",
         "x": [
          1,
          2,
          3,
          4,
          5,
          6,
          7,
          8,
          9,
          10,
          11,
          12,
          13,
          14
         ],
         "xaxis": "x4",
         "y": [
          9719800,
          8563200,
          8929200,
          9510300,
          8401200,
          10063100,
          9448400,
          10134600,
          9601600,
          8523800,
          8521700,
          8688800,
          9986800,
          8338000
         ],
         "yaxis": "y4"
        },
        {
         "hovertemplate": "group=control<br>day=%{x}<br>cost_associated=%{y}<extra></extra>",
         "legendgroup": "control",
         "line": {
          "color": "#636efa",
          "dash": "solid"
         },
         "marker": {
          "symbol": "circle"
         },
         "mode": "lines",
         "name": "control",
         "orientation": "v",
         "showlegend": false,
         "type": "scatter",
         "x": [
          1,
          2,
          3,
          4,
          5,
          6,
          7,
          8,
          9,
          10,
          11,
          12,
          13,
          14
         ],
         "xaxis": "x5",
         "y": [
          376100,
          387400,
          381100,
          390900,
          289400,
          363200,
          349800,
          384600,
          347000,
          300400,
          328000,
          391600,
          313000,
          433200
         ],
         "yaxis": "y5"
        },
        {
         "hovertemplate": "group=pilot<br>day=%{x}<br>cost_associated=%{y}<extra></extra>",
         "legendgroup": "pilot",
         "line": {
          "color": "#EF553B",
          "dash": "solid"
         },
         "marker": {
          "symbol": "circle"
         },
         "mode": "lines",
         "name": "pilot",
         "orientation": "v",
         "showlegend": false,
         "type": "scatter",
         "x": [
          1,
          2,
          3,
          4,
          5,
          6,
          7,
          8,
          9,
          10,
          11,
          12,
          13,
          14
         ],
         "xaxis": "x5",
         "y": [
          400100,
          357500,
          350100,
          424600,
          358400,
          381500,
          428500,
          468600,
          399700,
          374800,
          365300,
          397100,
          452300,
          358100
         ],
         "yaxis": "y5"
        }
       ],
       "layout": {
        "annotations": [
         {
          "font": {
           "size": 16
          },
          "showarrow": false,
          "text": "cost_phones",
          "x": 0.14444444444444446,
          "xanchor": "center",
          "xref": "paper",
          "y": 1,
          "yanchor": "bottom",
          "yref": "paper"
         },
         {
          "font": {
           "size": 16
          },
          "showarrow": false,
          "text": "cost_cases",
          "x": 0.5,
          "xanchor": "center",
          "xref": "paper",
          "y": 1,
          "yanchor": "bottom",
          "yref": "paper"
         },
         {
          "font": {
           "size": 16
          },
          "showarrow": false,
          "text": "cost_accessories",
          "x": 0.8555555555555556,
          "xanchor": "center",
          "xref": "paper",
          "y": 1,
          "yanchor": "bottom",
          "yref": "paper"
         },
         {
          "font": {
           "size": 16
          },
          "showarrow": false,
          "text": "cost_total",
          "x": 0.14444444444444446,
          "xanchor": "center",
          "xref": "paper",
          "y": 0.375,
          "yanchor": "bottom",
          "yref": "paper"
         },
         {
          "font": {
           "size": 16
          },
          "showarrow": false,
          "text": "cost_associated",
          "x": 0.5,
          "xanchor": "center",
          "xref": "paper",
          "y": 0.375,
          "yanchor": "bottom",
          "yref": "paper"
         }
        ],
        "autosize": true,
        "template": {
         "data": {
          "bar": [
           {
            "error_x": {
             "color": "#2a3f5f"
            },
            "error_y": {
             "color": "#2a3f5f"
            },
            "marker": {
             "line": {
              "color": "#E5ECF6",
              "width": 0.5
             },
             "pattern": {
              "fillmode": "overlay",
              "size": 10,
              "solidity": 0.2
             }
            },
            "type": "bar"
           }
          ],
          "barpolar": [
           {
            "marker": {
             "line": {
              "color": "#E5ECF6",
              "width": 0.5
             },
             "pattern": {
              "fillmode": "overlay",
              "size": 10,
              "solidity": 0.2
             }
            },
            "type": "barpolar"
           }
          ],
          "carpet": [
           {
            "aaxis": {
             "endlinecolor": "#2a3f5f",
             "gridcolor": "white",
             "linecolor": "white",
             "minorgridcolor": "white",
             "startlinecolor": "#2a3f5f"
            },
            "baxis": {
             "endlinecolor": "#2a3f5f",
             "gridcolor": "white",
             "linecolor": "white",
             "minorgridcolor": "white",
             "startlinecolor": "#2a3f5f"
            },
            "type": "carpet"
           }
          ],
          "choropleth": [
           {
            "colorbar": {
             "outlinewidth": 0,
             "ticks": ""
            },
            "type": "choropleth"
           }
          ],
          "contour": [
           {
            "colorbar": {
             "outlinewidth": 0,
             "ticks": ""
            },
            "colorscale": [
             [
              0,
              "#0d0887"
             ],
             [
              0.1111111111111111,
              "#46039f"
             ],
             [
              0.2222222222222222,
              "#7201a8"
             ],
             [
              0.3333333333333333,
              "#9c179e"
             ],
             [
              0.4444444444444444,
              "#bd3786"
             ],
             [
              0.5555555555555556,
              "#d8576b"
             ],
             [
              0.6666666666666666,
              "#ed7953"
             ],
             [
              0.7777777777777778,
              "#fb9f3a"
             ],
             [
              0.8888888888888888,
              "#fdca26"
             ],
             [
              1,
              "#f0f921"
             ]
            ],
            "type": "contour"
           }
          ],
          "contourcarpet": [
           {
            "colorbar": {
             "outlinewidth": 0,
             "ticks": ""
            },
            "type": "contourcarpet"
           }
          ],
          "heatmap": [
           {
            "colorbar": {
             "outlinewidth": 0,
             "ticks": ""
            },
            "colorscale": [
             [
              0,
              "#0d0887"
             ],
             [
              0.1111111111111111,
              "#46039f"
             ],
             [
              0.2222222222222222,
              "#7201a8"
             ],
             [
              0.3333333333333333,
              "#9c179e"
             ],
             [
              0.4444444444444444,
              "#bd3786"
             ],
             [
              0.5555555555555556,
              "#d8576b"
             ],
             [
              0.6666666666666666,
              "#ed7953"
             ],
             [
              0.7777777777777778,
              "#fb9f3a"
             ],
             [
              0.8888888888888888,
              "#fdca26"
             ],
             [
              1,
              "#f0f921"
             ]
            ],
            "type": "heatmap"
           }
          ],
          "heatmapgl": [
           {
            "colorbar": {
             "outlinewidth": 0,
             "ticks": ""
            },
            "colorscale": [
             [
              0,
              "#0d0887"
             ],
             [
              0.1111111111111111,
              "#46039f"
             ],
             [
              0.2222222222222222,
              "#7201a8"
             ],
             [
              0.3333333333333333,
              "#9c179e"
             ],
             [
              0.4444444444444444,
              "#bd3786"
             ],
             [
              0.5555555555555556,
              "#d8576b"
             ],
             [
              0.6666666666666666,
              "#ed7953"
             ],
             [
              0.7777777777777778,
              "#fb9f3a"
             ],
             [
              0.8888888888888888,
              "#fdca26"
             ],
             [
              1,
              "#f0f921"
             ]
            ],
            "type": "heatmapgl"
           }
          ],
          "histogram": [
           {
            "marker": {
             "pattern": {
              "fillmode": "overlay",
              "size": 10,
              "solidity": 0.2
             }
            },
            "type": "histogram"
           }
          ],
          "histogram2d": [
           {
            "colorbar": {
             "outlinewidth": 0,
             "ticks": ""
            },
            "colorscale": [
             [
              0,
              "#0d0887"
             ],
             [
              0.1111111111111111,
              "#46039f"
             ],
             [
              0.2222222222222222,
              "#7201a8"
             ],
             [
              0.3333333333333333,
              "#9c179e"
             ],
             [
              0.4444444444444444,
              "#bd3786"
             ],
             [
              0.5555555555555556,
              "#d8576b"
             ],
             [
              0.6666666666666666,
              "#ed7953"
             ],
             [
              0.7777777777777778,
              "#fb9f3a"
             ],
             [
              0.8888888888888888,
              "#fdca26"
             ],
             [
              1,
              "#f0f921"
             ]
            ],
            "type": "histogram2d"
           }
          ],
          "histogram2dcontour": [
           {
            "colorbar": {
             "outlinewidth": 0,
             "ticks": ""
            },
            "colorscale": [
             [
              0,
              "#0d0887"
             ],
             [
              0.1111111111111111,
              "#46039f"
             ],
             [
              0.2222222222222222,
              "#7201a8"
             ],
             [
              0.3333333333333333,
              "#9c179e"
             ],
             [
              0.4444444444444444,
              "#bd3786"
             ],
             [
              0.5555555555555556,
              "#d8576b"
             ],
             [
              0.6666666666666666,
              "#ed7953"
             ],
             [
              0.7777777777777778,
              "#fb9f3a"
             ],
             [
              0.8888888888888888,
              "#fdca26"
             ],
             [
              1,
              "#f0f921"
             ]
            ],
            "type": "histogram2dcontour"
           }
          ],
          "mesh3d": [
           {
            "colorbar": {
             "outlinewidth": 0,
             "ticks": ""
            },
            "type": "mesh3d"
           }
          ],
          "parcoords": [
           {
            "line": {
             "colorbar": {
              "outlinewidth": 0,
              "ticks": ""
             }
            },
            "type": "parcoords"
           }
          ],
          "pie": [
           {
            "automargin": true,
            "type": "pie"
           }
          ],
          "scatter": [
           {
            "fillpattern": {
             "fillmode": "overlay",
             "size": 10,
             "solidity": 0.2
            },
            "type": "scatter"
           }
          ],
          "scatter3d": [
           {
            "line": {
             "colorbar": {
              "outlinewidth": 0,
              "ticks": ""
             }
            },
            "marker": {
             "colorbar": {
              "outlinewidth": 0,
              "ticks": ""
             }
            },
            "type": "scatter3d"
           }
          ],
          "scattercarpet": [
           {
            "marker": {
             "colorbar": {
              "outlinewidth": 0,
              "ticks": ""
             }
            },
            "type": "scattercarpet"
           }
          ],
          "scattergeo": [
           {
            "marker": {
             "colorbar": {
              "outlinewidth": 0,
              "ticks": ""
             }
            },
            "type": "scattergeo"
           }
          ],
          "scattergl": [
           {
            "marker": {
             "colorbar": {
              "outlinewidth": 0,
              "ticks": ""
             }
            },
            "type": "scattergl"
           }
          ],
          "scattermapbox": [
           {
            "marker": {
             "colorbar": {
              "outlinewidth": 0,
              "ticks": ""
             }
            },
            "type": "scattermapbox"
           }
          ],
          "scatterpolar": [
           {
            "marker": {
             "colorbar": {
              "outlinewidth": 0,
              "ticks": ""
             }
            },
            "type": "scatterpolar"
           }
          ],
          "scatterpolargl": [
           {
            "marker": {
             "colorbar": {
              "outlinewidth": 0,
              "ticks": ""
             }
            },
            "type": "scatterpolargl"
           }
          ],
          "scatterternary": [
           {
            "marker": {
             "colorbar": {
              "outlinewidth": 0,
              "ticks": ""
             }
            },
            "type": "scatterternary"
           }
          ],
          "surface": [
           {
            "colorbar": {
             "outlinewidth": 0,
             "ticks": ""
            },
            "colorscale": [
             [
              0,
              "#0d0887"
             ],
             [
              0.1111111111111111,
              "#46039f"
             ],
             [
              0.2222222222222222,
              "#7201a8"
             ],
             [
              0.3333333333333333,
              "#9c179e"
             ],
             [
              0.4444444444444444,
              "#bd3786"
             ],
             [
              0.5555555555555556,
              "#d8576b"
             ],
             [
              0.6666666666666666,
              "#ed7953"
             ],
             [
              0.7777777777777778,
              "#fb9f3a"
             ],
             [
              0.8888888888888888,
              "#fdca26"
             ],
             [
              1,
              "#f0f921"
             ]
            ],
            "type": "surface"
           }
          ],
          "table": [
           {
            "cells": {
             "fill": {
              "color": "#EBF0F8"
             },
             "line": {
              "color": "white"
             }
            },
            "header": {
             "fill": {
              "color": "#C8D4E3"
             },
             "line": {
              "color": "white"
             }
            },
            "type": "table"
           }
          ]
         },
         "layout": {
          "annotationdefaults": {
           "arrowcolor": "#2a3f5f",
           "arrowhead": 0,
           "arrowwidth": 1
          },
          "autotypenumbers": "strict",
          "coloraxis": {
           "colorbar": {
            "outlinewidth": 0,
            "ticks": ""
           }
          },
          "colorscale": {
           "diverging": [
            [
             0,
             "#8e0152"
            ],
            [
             0.1,
             "#c51b7d"
            ],
            [
             0.2,
             "#de77ae"
            ],
            [
             0.3,
             "#f1b6da"
            ],
            [
             0.4,
             "#fde0ef"
            ],
            [
             0.5,
             "#f7f7f7"
            ],
            [
             0.6,
             "#e6f5d0"
            ],
            [
             0.7,
             "#b8e186"
            ],
            [
             0.8,
             "#7fbc41"
            ],
            [
             0.9,
             "#4d9221"
            ],
            [
             1,
             "#276419"
            ]
           ],
           "sequential": [
            [
             0,
             "#0d0887"
            ],
            [
             0.1111111111111111,
             "#46039f"
            ],
            [
             0.2222222222222222,
             "#7201a8"
            ],
            [
             0.3333333333333333,
             "#9c179e"
            ],
            [
             0.4444444444444444,
             "#bd3786"
            ],
            [
             0.5555555555555556,
             "#d8576b"
            ],
            [
             0.6666666666666666,
             "#ed7953"
            ],
            [
             0.7777777777777778,
             "#fb9f3a"
            ],
            [
             0.8888888888888888,
             "#fdca26"
            ],
            [
             1,
             "#f0f921"
            ]
           ],
           "sequentialminus": [
            [
             0,
             "#0d0887"
            ],
            [
             0.1111111111111111,
             "#46039f"
            ],
            [
             0.2222222222222222,
             "#7201a8"
            ],
            [
             0.3333333333333333,
             "#9c179e"
            ],
            [
             0.4444444444444444,
             "#bd3786"
            ],
            [
             0.5555555555555556,
             "#d8576b"
            ],
            [
             0.6666666666666666,
             "#ed7953"
            ],
            [
             0.7777777777777778,
             "#fb9f3a"
            ],
            [
             0.8888888888888888,
             "#fdca26"
            ],
            [
             1,
             "#f0f921"
            ]
           ]
          },
          "colorway": [
           "#636efa",
           "#EF553B",
           "#00cc96",
           "#ab63fa",
           "#FFA15A",
           "#19d3f3",
           "#FF6692",
           "#B6E880",
           "#FF97FF",
           "#FECB52"
          ],
          "font": {
           "color": "#2a3f5f"
          },
          "geo": {
           "bgcolor": "white",
           "lakecolor": "white",
           "landcolor": "#E5ECF6",
           "showlakes": true,
           "showland": true,
           "subunitcolor": "white"
          },
          "hoverlabel": {
           "align": "left"
          },
          "hovermode": "closest",
          "mapbox": {
           "style": "light"
          },
          "paper_bgcolor": "white",
          "plot_bgcolor": "#E5ECF6",
          "polar": {
           "angularaxis": {
            "gridcolor": "white",
            "linecolor": "white",
            "ticks": ""
           },
           "bgcolor": "#E5ECF6",
           "radialaxis": {
            "gridcolor": "white",
            "linecolor": "white",
            "ticks": ""
           }
          },
          "scene": {
           "xaxis": {
            "backgroundcolor": "#E5ECF6",
            "gridcolor": "white",
            "gridwidth": 2,
            "linecolor": "white",
            "showbackground": true,
            "ticks": "",
            "zerolinecolor": "white"
           },
           "yaxis": {
            "backgroundcolor": "#E5ECF6",
            "gridcolor": "white",
            "gridwidth": 2,
            "linecolor": "white",
            "showbackground": true,
            "ticks": "",
            "zerolinecolor": "white"
           },
           "zaxis": {
            "backgroundcolor": "#E5ECF6",
            "gridcolor": "white",
            "gridwidth": 2,
            "linecolor": "white",
            "showbackground": true,
            "ticks": "",
            "zerolinecolor": "white"
           }
          },
          "shapedefaults": {
           "line": {
            "color": "#2a3f5f"
           }
          },
          "ternary": {
           "aaxis": {
            "gridcolor": "white",
            "linecolor": "white",
            "ticks": ""
           },
           "baxis": {
            "gridcolor": "white",
            "linecolor": "white",
            "ticks": ""
           },
           "bgcolor": "#E5ECF6",
           "caxis": {
            "gridcolor": "white",
            "linecolor": "white",
            "ticks": ""
           }
          },
          "title": {
           "x": 0.05
          },
          "xaxis": {
           "automargin": true,
           "gridcolor": "white",
           "linecolor": "white",
           "ticks": "",
           "title": {
            "standoff": 15
           },
           "zerolinecolor": "white",
           "zerolinewidth": 2
          },
          "yaxis": {
           "automargin": true,
           "gridcolor": "white",
           "linecolor": "white",
           "ticks": "",
           "title": {
            "standoff": 15
           },
           "zerolinecolor": "white",
           "zerolinewidth": 2
          }
         }
        },
        "xaxis": {
         "anchor": "y",
         "autorange": true,
         "domain": [
          0,
          0.2888888888888889
         ],
         "range": [
          1,
          14
         ],
         "type": "linear"
        },
        "xaxis2": {
         "anchor": "y2",
         "autorange": true,
         "domain": [
          0.35555555555555557,
          0.6444444444444445
         ],
         "range": [
          1,
          14
         ],
         "type": "linear"
        },
        "xaxis3": {
         "anchor": "y3",
         "autorange": true,
         "domain": [
          0.7111111111111111,
          1
         ],
         "range": [
          1,
          14
         ],
         "type": "linear"
        },
        "xaxis4": {
         "anchor": "y4",
         "autorange": true,
         "domain": [
          0,
          0.2888888888888889
         ],
         "range": [
          1,
          14
         ],
         "type": "linear"
        },
        "xaxis5": {
         "anchor": "y5",
         "autorange": true,
         "domain": [
          0.35555555555555557,
          0.6444444444444445
         ],
         "range": [
          1,
          14
         ],
         "type": "linear"
        },
        "xaxis6": {
         "anchor": "y6",
         "domain": [
          0.7111111111111111,
          1
         ]
        },
        "yaxis": {
         "anchor": "x",
         "autorange": true,
         "domain": [
          0.625,
          1
         ],
         "range": [
          7423977.777777778,
          9800422.222222222
         ],
         "type": "linear"
        },
        "yaxis2": {
         "anchor": "x2",
         "autorange": true,
         "domain": [
          0.625,
          1
         ],
         "range": [
          139616.66666666666,
          253283.33333333334
         ],
         "type": "linear"
        },
        "yaxis3": {
         "anchor": "x3",
         "autorange": true,
         "domain": [
          0.625,
          1
         ],
         "range": [
          116288.88888888889,
          254511.11111111112
         ],
         "type": "linear"
        },
        "yaxis4": {
         "anchor": "x4",
         "autorange": true,
         "domain": [
          0,
          0.375
         ],
         "range": [
          7707244.444444444,
          10262355.555555556
         ],
         "type": "linear"
        },
        "yaxis5": {
         "anchor": "x5",
         "autorange": true,
         "domain": [
          0,
          0.375
         ],
         "range": [
          279444.44444444444,
          478555.55555555556
         ],
         "type": "linear"
        },
        "yaxis6": {
         "anchor": "x6",
         "domain": [
          0,
          0.375
         ]
        }
       }
      },
      "image/png": "[encoded data removed]",
      "text/html": [
       "<div>                            <div id=\"fd1cd055-79b9-4020-b21f-eb7b4d850967\" class=\"plotly-graph-div\" style=\"height:525px; width:100%;\"></div>            <script type=\"text/javascript\">                require([\"plotly\"], function(Plotly) {                    window.PLOTLYENV=window.PLOTLYENV || {};                                    if (document.getElementById(\"fd1cd055-79b9-4020-b21f-eb7b4d850967\")) {                    Plotly.newPlot(                        \"fd1cd055-79b9-4020-b21f-eb7b4d850967\",                        [{\"hovertemplate\":\"group=control\\u003cbr\\u003eday=%{x}\\u003cbr\\u003ecost_phones=%{y}\\u003cextra\\u003e\\u003c\\u002fextra\\u003e\",\"legendgroup\":\"control\",\"line\":{\"color\":\"#636efa\",\"dash\":\"solid\"},\"marker\":{\"symbol\":\"circle\"},\"mode\":\"lines\",\"name\":\"control\",\"orientation\":\"v\",\"showlegend\":true,\"x\":[1,2,3,4,5,6,7,8,9,10,11,12,13,14],\"xaxis\":\"x\",\"y\":[8661700,9163300,9351400,9172100,7545600,8768800,7671200,8756100,8228800,8398700,7542800,8812100,7676000,9295200],\"yaxis\":\"y\",\"type\":\"scatter\"},{\"hovertemplate\":\"group=pilot\\u003cbr\\u003eday=%{x}\\u003cbr\\u003ecost_phones=%{y}\\u003cextra\\u003e\\u003c\\u002fextra\\u003e\",\"legendgroup\":\"pilot\",\"line\":{\"color\":\"#EF553B\",\"dash\":\"solid\"},\"marker\":{\"symbol\":\"circle\"},\"mode\":\"lines\",\"name\":\"pilot\",\"orientation\":\"v\",\"showlegend\":true,\"x\":[1,2,3,4,5,6,7,8,9,10,11,12,13,14],\"xaxis\":\"x\",\"y\":[9319700,8205700,8579100,9085700,8042800,9681600,9019900,9666000,9201900,8149000,8156400,8291700,9534500,7979900],\"yaxis\":\"y\",\"type\":\"scatter\"},{\"hovertemplate\":\"group=control\\u003cbr\\u003eday=%{x}\\u003cbr\\u003ecost_cases=%{y}\\u003cextra\\u003e\\u003c\\u002fextra\\u003e\",\"legendgroup\":\"control\",\"line\":{\"color\":\"#636efa\",\"dash\":\"solid\"},\"marker\":{\"symbol\":\"circle\"},\"mode\":\"lines\",\"name\":\"control\",\"orientation\":\"v\",\"showlegend\":false,\"x\":[1,2,3,4,5,6,7,8,9,10,11,12,13,14],\"xaxis\":\"x2\",\"y\":[171300,216700,196300,193100,159900,199700,186900,194000,165800,145300,175700,210200,159400,233200],\"yaxis\":\"y2\",\"type\":\"scatter\"},{\"hovertemplate\":\"group=pilot\\u003cbr\\u003eday=%{x}\\u003cbr\\u003ecost_cases=%{y}\\u003cextra\\u003e\\u003c\\u002fextra\\u003e\",\"legendgroup\":\"pilot\",\"line\":{\"color\":\"#EF553B\",\"dash\":\"solid\"},\"marker\":{\"symbol\":\"circle\"},\"mode\":\"lines\",\"name\":\"pilot\",\"orientation\":\"v\",\"showlegend\":false,\"x\":[1,2,3,4,5,6,7,8,9,10,11,12,13,14],\"xaxis\":\"x2\",\"y\":[216400,214500,209200,246300,175900,243200,243800,221000,239500,227800,242100,229800,247600,209900],\"yaxis\":\"y2\",\"type\":\"scatter\"},{\"hovertemplate\":\"group=control\\u003cbr\\u003eday=%{x}\\u003cbr\\u003ecost_accessories=%{y}\\u003cextra\\u003e\\u003c\\u002fextra\\u003e\",\"legendgroup\":\"control\",\"line\":{\"color\":\"#636efa\",\"dash\":\"solid\"},\"marker\":{\"symbol\":\"circle\"},\"mode\":\"lines\",\"name\":\"control\",\"orientation\":\"v\",\"showlegend\":false,\"x\":[1,2,3,4,5,6,7,8,9,10,11,12,13,14],\"xaxis\":\"x3\",\"y\":[204800,170700,184800,197800,129500,163500,162900,190600,181200,155100,152300,181400,153600,200000],\"yaxis\":\"y3\",\"type\":\"scatter\"},{\"hovertemplate\":\"group=pilot\\u003cbr\\u003eday=%{x}\\u003cbr\\u003ecost_accessories=%{y}\\u003cextra\\u003e\\u003c\\u002fextra\\u003e\",\"legendgroup\":\"pilot\",\"line\":{\"color\":\"#EF553B\",\"dash\":\"solid\"},\"marker\":{\"symbol\":\"circle\"},\"mode\":\"lines\",\"name\":\"pilot\",\"orientation\":\"v\",\"showlegend\":false,\"x\":[1,2,3,4,5,6,7,8,9,10,11,12,13,14],\"xaxis\":\"x3\",\"y\":[183700,143000,140900,178300,182500,138300,184700,247600,160200,147000,123200,167300,204700,148200],\"yaxis\":\"y3\",\"type\":\"scatter\"},{\"hovertemplate\":\"group=control\\u003cbr\\u003eday=%{x}\\u003cbr\\u003ecost_total=%{y}\\u003cextra\\u003e\\u003c\\u002fextra\\u003e\",\"legendgroup\":\"control\",\"line\":{\"color\":\"#636efa\",\"dash\":\"solid\"},\"marker\":{\"symbol\":\"circle\"},\"mode\":\"lines\",\"name\":\"control\",\"orientation\":\"v\",\"showlegend\":false,\"x\":[1,2,3,4,5,6,7,8,9,10,11,12,13,14],\"xaxis\":\"x4\",\"y\":[9037800,9550700,9732500,9563000,7835000,9132000,8021000,9140700,8575800,8699100,7870800,9203700,7989000,9728400],\"yaxis\":\"y4\",\"type\":\"scatter\"},{\"hovertemplate\":\"group=pilot\\u003cbr\\u003eday=%{x}\\u003cbr\\u003ecost_total=%{y}\\u003cextra\\u003e\\u003c\\u002fextra\\u003e\",\"legendgroup\":\"pilot\",\"line\":{\"color\":\"#EF553B\",\"dash\":\"solid\"},\"marker\":{\"symbol\":\"circle\"},\"mode\":\"lines\",\"name\":\"pilot\",\"orientation\":\"v\",\"showlegend\":false,\"x\":[1,2,3,4,5,6,7,8,9,10,11,12,13,14],\"xaxis\":\"x4\",\"y\":[9719800,8563200,8929200,9510300,8401200,10063100,9448400,10134600,9601600,8523800,8521700,8688800,9986800,8338000],\"yaxis\":\"y4\",\"type\":\"scatter\"},{\"hovertemplate\":\"group=control\\u003cbr\\u003eday=%{x}\\u003cbr\\u003ecost_associated=%{y}\\u003cextra\\u003e\\u003c\\u002fextra\\u003e\",\"legendgroup\":\"control\",\"line\":{\"color\":\"#636efa\",\"dash\":\"solid\"},\"marker\":{\"symbol\":\"circle\"},\"mode\":\"lines\",\"name\":\"control\",\"orientation\":\"v\",\"showlegend\":false,\"x\":[1,2,3,4,5,6,7,8,9,10,11,12,13,14],\"xaxis\":\"x5\",\"y\":[376100,387400,381100,390900,289400,363200,349800,384600,347000,300400,328000,391600,313000,433200],\"yaxis\":\"y5\",\"type\":\"scatter\"},{\"hovertemplate\":\"group=pilot\\u003cbr\\u003eday=%{x}\\u003cbr\\u003ecost_associated=%{y}\\u003cextra\\u003e\\u003c\\u002fextra\\u003e\",\"legendgroup\":\"pilot\",\"line\":{\"color\":\"#EF553B\",\"dash\":\"solid\"},\"marker\":{\"symbol\":\"circle\"},\"mode\":\"lines\",\"name\":\"pilot\",\"orientation\":\"v\",\"showlegend\":false,\"x\":[1,2,3,4,5,6,7,8,9,10,11,12,13,14],\"xaxis\":\"x5\",\"y\":[400100,357500,350100,424600,358400,381500,428500,468600,399700,374800,365300,397100,452300,358100],\"yaxis\":\"y5\",\"type\":\"scatter\"}],                        {\"template\":{\"data\":{\"histogram2dcontour\":[{\"type\":\"histogram2dcontour\",\"colorbar\":{\"outlinewidth\":0,\"ticks\":\"\"},\"colorscale\":[[0.0,\"#0d0887\"],[0.1111111111111111,\"#46039f\"],[0.2222222222222222,\"#7201a8\"],[0.3333333333333333,\"#9c179e\"],[0.4444444444444444,\"#bd3786\"],[0.5555555555555556,\"#d8576b\"],[0.6666666666666666,\"#ed7953\"],[0.7777777777777778,\"#fb9f3a\"],[0.8888888888888888,\"#fdca26\"],[1.0,\"#f0f921\"]]}],\"choropleth\":[{\"type\":\"choropleth\",\"colorbar\":{\"outlinewidth\":0,\"ticks\":\"\"}}],\"histogram2d\":[{\"type\":\"histogram2d\",\"colorbar\":{\"outlinewidth\":0,\"ticks\":\"\"},\"colorscale\":[[0.0,\"#0d0887\"],[0.1111111111111111,\"#46039f\"],[0.2222222222222222,\"#7201a8\"],[0.3333333333333333,\"#9c179e\"],[0.4444444444444444,\"#bd3786\"],[0.5555555555555556,\"#d8576b\"],[0.6666666666666666,\"#ed7953\"],[0.7777777777777778,\"#fb9f3a\"],[0.8888888888888888,\"#fdca26\"],[1.0,\"#f0f921\"]]}],\"heatmap\":[{\"type\":\"heatmap\",\"colorbar\":{\"outlinewidth\":0,\"ticks\":\"\"},\"colorscale\":[[0.0,\"#0d0887\"],[0.1111111111111111,\"#46039f\"],[0.2222222222222222,\"#7201a8\"],[0.3333333333333333,\"#9c179e\"],[0.4444444444444444,\"#bd3786\"],[0.5555555555555556,\"#d8576b\"],[0.6666666666666666,\"#ed7953\"],[0.7777777777777778,\"#fb9f3a\"],[0.8888888888888888,\"#fdca26\"],[1.0,\"#f0f921\"]]}],\"heatmapgl\":[{\"type\":\"heatmapgl\",\"colorbar\":{\"outlinewidth\":0,\"ticks\":\"\"},\"colorscale\":[[0.0,\"#0d0887\"],[0.1111111111111111,\"#46039f\"],[0.2222222222222222,\"#7201a8\"],[0.3333333333333333,\"#9c179e\"],[0.4444444444444444,\"#bd3786\"],[0.5555555555555556,\"#d8576b\"],[0.6666666666666666,\"#ed7953\"],[0.7777777777777778,\"#fb9f3a\"],[0.8888888888888888,\"#fdca26\"],[1.0,\"#f0f921\"]]}],\"contourcarpet\":[{\"type\":\"contourcarpet\",\"colorbar\":{\"outlinewidth\":0,\"ticks\":\"\"}}],\"contour\":[{\"type\":\"contour\",\"colorbar\":{\"outlinewidth\":0,\"ticks\":\"\"},\"colorscale\":[[0.0,\"#0d0887\"],[0.1111111111111111,\"#46039f\"],[0.2222222222222222,\"#7201a8\"],[0.3333333333333333,\"#9c179e\"],[0.4444444444444444,\"#bd3786\"],[0.5555555555555556,\"#d8576b\"],[0.6666666666666666,\"#ed7953\"],[0.7777777777777778,\"#fb9f3a\"],[0.8888888888888888,\"#fdca26\"],[1.0,\"#f0f921\"]]}],\"surface\":[{\"type\":\"surface\",\"colorbar\":{\"outlinewidth\":0,\"ticks\":\"\"},\"colorscale\":[[0.0,\"#0d0887\"],[0.1111111111111111,\"#46039f\"],[0.2222222222222222,\"#7201a8\"],[0.3333333333333333,\"#9c179e\"],[0.4444444444444444,\"#bd3786\"],[0.5555555555555556,\"#d8576b\"],[0.6666666666666666,\"#ed7953\"],[0.7777777777777778,\"#fb9f3a\"],[0.8888888888888888,\"#fdca26\"],[1.0,\"#f0f921\"]]}],\"mesh3d\":[{\"type\":\"mesh3d\",\"colorbar\":{\"outlinewidth\":0,\"ticks\":\"\"}}],\"scatter\":[{\"fillpattern\":{\"fillmode\":\"overlay\",\"size\":10,\"solidity\":0.2},\"type\":\"scatter\"}],\"parcoords\":[{\"type\":\"parcoords\",\"line\":{\"colorbar\":{\"outlinewidth\":0,\"ticks\":\"\"}}}],\"scatterpolargl\":[{\"type\":\"scatterpolargl\",\"marker\":{\"colorbar\":{\"outlinewidth\":0,\"ticks\":\"\"}}}],\"bar\":[{\"error_x\":{\"color\":\"#2a3f5f\"},\"error_y\":{\"color\":\"#2a3f5f\"},\"marker\":{\"line\":{\"color\":\"#E5ECF6\",\"width\":0.5},\"pattern\":{\"fillmode\":\"overlay\",\"size\":10,\"solidity\":0.2}},\"type\":\"bar\"}],\"scattergeo\":[{\"type\":\"scattergeo\",\"marker\":{\"colorbar\":{\"outlinewidth\":0,\"ticks\":\"\"}}}],\"scatterpolar\":[{\"type\":\"scatterpolar\",\"marker\":{\"colorbar\":{\"outlinewidth\":0,\"ticks\":\"\"}}}],\"histogram\":[{\"marker\":{\"pattern\":{\"fillmode\":\"overlay\",\"size\":10,\"solidity\":0.2}},\"type\":\"histogram\"}],\"scattergl\":[{\"type\":\"scattergl\",\"marker\":{\"colorbar\":{\"outlinewidth\":0,\"ticks\":\"\"}}}],\"scatter3d\":[{\"type\":\"scatter3d\",\"line\":{\"colorbar\":{\"outlinewidth\":0,\"ticks\":\"\"}},\"marker\":{\"colorbar\":{\"outlinewidth\":0,\"ticks\":\"\"}}}],\"scattermapbox\":[{\"type\":\"scattermapbox\",\"marker\":{\"colorbar\":{\"outlinewidth\":0,\"ticks\":\"\"}}}],\"scatterternary\":[{\"type\":\"scatterternary\",\"marker\":{\"colorbar\":{\"outlinewidth\":0,\"ticks\":\"\"}}}],\"scattercarpet\":[{\"type\":\"scattercarpet\",\"marker\":{\"colorbar\":{\"outlinewidth\":0,\"ticks\":\"\"}}}],\"carpet\":[{\"aaxis\":{\"endlinecolor\":\"#2a3f5f\",\"gridcolor\":\"white\",\"linecolor\":\"white\",\"minorgridcolor\":\"white\",\"startlinecolor\":\"#2a3f5f\"},\"baxis\":{\"endlinecolor\":\"#2a3f5f\",\"gridcolor\":\"white\",\"linecolor\":\"white\",\"minorgridcolor\":\"white\",\"startlinecolor\":\"#2a3f5f\"},\"type\":\"carpet\"}],\"table\":[{\"cells\":{\"fill\":{\"color\":\"#EBF0F8\"},\"line\":{\"color\":\"white\"}},\"header\":{\"fill\":{\"color\":\"#C8D4E3\"},\"line\":{\"color\":\"white\"}},\"type\":\"table\"}],\"barpolar\":[{\"marker\":{\"line\":{\"color\":\"#E5ECF6\",\"width\":0.5},\"pattern\":{\"fillmode\":\"overlay\",\"size\":10,\"solidity\":0.2}},\"type\":\"barpolar\"}],\"pie\":[{\"automargin\":true,\"type\":\"pie\"}]},\"layout\":{\"autotypenumbers\":\"strict\",\"colorway\":[\"#636efa\",\"#EF553B\",\"#00cc96\",\"#ab63fa\",\"#FFA15A\",\"#19d3f3\",\"#FF6692\",\"#B6E880\",\"#FF97FF\",\"#FECB52\"],\"font\":{\"color\":\"#2a3f5f\"},\"hovermode\":\"closest\",\"hoverlabel\":{\"align\":\"left\"},\"paper_bgcolor\":\"white\",\"plot_bgcolor\":\"#E5ECF6\",\"polar\":{\"bgcolor\":\"#E5ECF6\",\"angularaxis\":{\"gridcolor\":\"white\",\"linecolor\":\"white\",\"ticks\":\"\"},\"radialaxis\":{\"gridcolor\":\"white\",\"linecolor\":\"white\",\"ticks\":\"\"}},\"ternary\":{\"bgcolor\":\"#E5ECF6\",\"aaxis\":{\"gridcolor\":\"white\",\"linecolor\":\"white\",\"ticks\":\"\"},\"baxis\":{\"gridcolor\":\"white\",\"linecolor\":\"white\",\"ticks\":\"\"},\"caxis\":{\"gridcolor\":\"white\",\"linecolor\":\"white\",\"ticks\":\"\"}},\"coloraxis\":{\"colorbar\":{\"outlinewidth\":0,\"ticks\":\"\"}},\"colorscale\":{\"sequential\":[[0.0,\"#0d0887\"],[0.1111111111111111,\"#46039f\"],[0.2222222222222222,\"#7201a8\"],[0.3333333333333333,\"#9c179e\"],[0.4444444444444444,\"#bd3786\"],[0.5555555555555556,\"#d8576b\"],[0.6666666666666666,\"#ed7953\"],[0.7777777777777778,\"#fb9f3a\"],[0.8888888888888888,\"#fdca26\"],[1.0,\"#f0f921\"]],\"sequentialminus\":[[0.0,\"#0d0887\"],[0.1111111111111111,\"#46039f\"],[0.2222222222222222,\"#7201a8\"],[0.3333333333333333,\"#9c179e\"],[0.4444444444444444,\"#bd3786\"],[0.5555555555555556,\"#d8576b\"],[0.6666666666666666,\"#ed7953\"],[0.7777777777777778,\"#fb9f3a\"],[0.8888888888888888,\"#fdca26\"],[1.0,\"#f0f921\"]],\"diverging\":[[0,\"#8e0152\"],[0.1,\"#c51b7d\"],[0.2,\"#de77ae\"],[0.3,\"#f1b6da\"],[0.4,\"#fde0ef\"],[0.5,\"#f7f7f7\"],[0.6,\"#e6f5d0\"],[0.7,\"#b8e186\"],[0.8,\"#7fbc41\"],[0.9,\"#4d9221\"],[1,\"#276419\"]]},\"xaxis\":{\"gridcolor\":\"white\",\"linecolor\":\"white\",\"ticks\":\"\",\"title\":{\"standoff\":15},\"zerolinecolor\":\"white\",\"automargin\":true,\"zerolinewidth\":2},\"yaxis\":{\"gridcolor\":\"white\",\"linecolor\":\"white\",\"ticks\":\"\",\"title\":{\"standoff\":15},\"zerolinecolor\":\"white\",\"automargin\":true,\"zerolinewidth\":2},\"scene\":{\"xaxis\":{\"backgroundcolor\":\"#E5ECF6\",\"gridcolor\":\"white\",\"linecolor\":\"white\",\"showbackground\":true,\"ticks\":\"\",\"zerolinecolor\":\"white\",\"gridwidth\":2},\"yaxis\":{\"backgroundcolor\":\"#E5ECF6\",\"gridcolor\":\"white\",\"linecolor\":\"white\",\"showbackground\":true,\"ticks\":\"\",\"zerolinecolor\":\"white\",\"gridwidth\":2},\"zaxis\":{\"backgroundcolor\":\"#E5ECF6\",\"gridcolor\":\"white\",\"linecolor\":\"white\",\"showbackground\":true,\"ticks\":\"\",\"zerolinecolor\":\"white\",\"gridwidth\":2}},\"shapedefaults\":{\"line\":{\"color\":\"#2a3f5f\"}},\"annotationdefaults\":{\"arrowcolor\":\"#2a3f5f\",\"arrowhead\":0,\"arrowwidth\":1},\"geo\":{\"bgcolor\":\"white\",\"landcolor\":\"#E5ECF6\",\"subunitcolor\":\"white\",\"showland\":true,\"showlakes\":true,\"lakecolor\":\"white\"},\"title\":{\"x\":0.05},\"mapbox\":{\"style\":\"light\"}}},\"xaxis\":{\"anchor\":\"y\",\"domain\":[0.0,0.2888888888888889]},\"yaxis\":{\"anchor\":\"x\",\"domain\":[0.625,1.0]},\"xaxis2\":{\"anchor\":\"y2\",\"domain\":[0.35555555555555557,0.6444444444444445]},\"yaxis2\":{\"anchor\":\"x2\",\"domain\":[0.625,1.0]},\"xaxis3\":{\"anchor\":\"y3\",\"domain\":[0.7111111111111111,1.0]},\"yaxis3\":{\"anchor\":\"x3\",\"domain\":[0.625,1.0]},\"xaxis4\":{\"anchor\":\"y4\",\"domain\":[0.0,0.2888888888888889]},\"yaxis4\":{\"anchor\":\"x4\",\"domain\":[0.0,0.375]},\"xaxis5\":{\"anchor\":\"y5\",\"domain\":[0.35555555555555557,0.6444444444444445]},\"yaxis5\":{\"anchor\":\"x5\",\"domain\":[0.0,0.375]},\"xaxis6\":{\"anchor\":\"y6\",\"domain\":[0.7111111111111111,1.0]},\"yaxis6\":{\"anchor\":\"x6\",\"domain\":[0.0,0.375]},\"annotations\":[{\"font\":{\"size\":16},\"showarrow\":false,\"text\":\"cost_phones\",\"x\":0.14444444444444446,\"xanchor\":\"center\",\"xref\":\"paper\",\"y\":1.0,\"yanchor\":\"bottom\",\"yref\":\"paper\"},{\"font\":{\"size\":16},\"showarrow\":false,\"text\":\"cost_cases\",\"x\":0.5,\"xanchor\":\"center\",\"xref\":\"paper\",\"y\":1.0,\"yanchor\":\"bottom\",\"yref\":\"paper\"},{\"font\":{\"size\":16},\"showarrow\":false,\"text\":\"cost_accessories\",\"x\":0.8555555555555556,\"xanchor\":\"center\",\"xref\":\"paper\",\"y\":1.0,\"yanchor\":\"bottom\",\"yref\":\"paper\"},{\"font\":{\"size\":16},\"showarrow\":false,\"text\":\"cost_total\",\"x\":0.14444444444444446,\"xanchor\":\"center\",\"xref\":\"paper\",\"y\":0.375,\"yanchor\":\"bottom\",\"yref\":\"paper\"},{\"font\":{\"size\":16},\"showarrow\":false,\"text\":\"cost_associated\",\"x\":0.5,\"xanchor\":\"center\",\"xref\":\"paper\",\"y\":0.375,\"yanchor\":\"bottom\",\"yref\":\"paper\"}]},                        {\"responsive\": true}                    ).then(function(){\n",
       "                            \n",
       "var gd = document.getElementById('fd1cd055-79b9-4020-b21f-eb7b4d850967');\n",
       "var x = new MutationObserver(function (mutations, observer) {{\n",
       "        var display = window.getComputedStyle(gd).display;\n",
       "        if (!display || display === 'none') {{\n",
       "            console.log([gd, 'removed!']);\n",
       "            Plotly.purge(gd);\n",
       "            observer.disconnect();\n",
       "        }}\n",
       "}});\n",
       "\n",
       "// Listen for the removal of the full notebook cells\n",
       "var notebookContainer = gd.closest('#notebook-container');\n",
       "if (notebookContainer) {{\n",
       "    x.observe(notebookContainer, {childList: true});\n",
       "}}\n",
       "\n",
       "// Listen for the clearing of the current output cell\n",
       "var outputEl = gd.closest('.output');\n",
       "if (outputEl) {{\n",
       "    x.observe(outputEl, {childList: true});\n",
       "}}\n",
       "\n",
       "                        })                };                });            </script>        </div>"
      ]
     },
     "metadata": {},
     "output_type": "display_data"
    }
   ],
   "source": [
    "data_sint = data.copy()\n",
    "data_sint['cost_total'] = data[['cost_phones', 'cost_cases', 'cost_accessories']].sum(axis=1)\n",
    "data_sint['cost_associated'] = data[['cost_cases', 'cost_accessories']].sum(axis=1)\n",
    "cost_columns = [c for c in data_sint.columns if 'cost' in c]\n",
    "\n",
    "fig = make_subplots(\n",
    "    rows=2, cols=3, subplot_titles=cost_columns\n",
    "    )\n",
    "\n",
    "for column, ax in zip(cost_columns, range(1, len(cost_columns)+1)):\n",
    "    data_groupby = data_sint.groupby(['day', 'group'])[[column]].sum().reset_index()\n",
    "    fig_t = px.line(data_groupby, x='day', y=column, color='group', title=column)\n",
    "    if ax < 4:\n",
    "        row, col = 1, ax\n",
    "    else:\n",
    "        row, col = 2, ax-3\n",
    "    for i in fig_t.data:\n",
    "        fig.add_trace(i, row=row, col=col)\n",
    "    data_pivot = data_groupby.pivot(index='day', columns='group', values=column)\n",
    "        \n",
    "names = set()\n",
    "fig.for_each_trace(\n",
    "    lambda trace:\n",
    "        trace.update(showlegend=False)\n",
    "        if (trace.name in names) else names.add(trace.name))\n",
    "fig.show()"
   ]
  },
  {
   "cell_type": "code",
   "execution_count": null,
   "metadata": {},
   "outputs": [],
   "source": []
  },
  {
   "cell_type": "markdown",
   "metadata": {
    "id": "ubipQspPPkgE"
   },
   "source": [
    "## Визуальное сравнение распределений\n",
    "\n",
    "Давайте немного подробней посмотрим на статистики. Для этого построим гистограммы по всем метрикам."
   ]
  },
  {
   "cell_type": "code",
   "execution_count": 50,
   "metadata": {
    "colab": {
     "base_uri": "https://localhost:8080/"
    },
    "executionInfo": {
     "elapsed": 31,
     "status": "ok",
     "timestamp": 1622826440147,
     "user": {
      "displayName": "Александр Сахнов",
      "photoUrl": "https://lh3.googleusercontent.com/a-/AOh14GgMDvqDsvLWycvxubr8wFo4sHGSLax7iRNm_7R7zaQ=s64",
      "userId": "16236737735295898069"
     },
     "user_tz": -180
    },
    "id": "I1fN4dRYRE_W",
    "outputId": "aa45c8a0-1e0f-4e2d-b6cd-63e4d6f1bc77"
   },
   "outputs": [
    {
     "name": "stdout",
     "output_type": "stream",
     "text": [
      "pilot      3267\n",
      "control    3185\n",
      "Name: group, dtype: int64 \n",
      "\n",
      "day\n",
      "   7.41 14 1 14\n",
      "   7.46 14 1 14\n",
      "cost_phones\n",
      "   37376.39 724 4100 100800\n",
      "   37622.87 735 4100 104100\n",
      "cost_cases\n",
      "   818.68 36 0 4200\n",
      "   969.39 38 0 4000\n",
      "cost_accessories\n",
      "   762.39 55 0 6500\n",
      "   719.19 57 0 6300\n",
      "cost_total\n",
      "   38957.46 740 4100 101900\n",
      "   39311.45 745 4100 105900\n",
      "cost_associated\n",
      "   1581.07 75 0 8100\n",
      "   1688.58 78 0 8900\n"
     ]
    }
   ],
   "source": [
    "print(data_sint['group'].value_counts(), '\\n')\n",
    "\n",
    "for column in data_sint.drop('group', axis=1).columns:\n",
    "    print(column)\n",
    "    for group in ['control', 'pilot']:\n",
    "        data_ = data_sint[data_sint['group']==group][column]\n",
    "        print('  ', round(data_.mean(), 2), data_.nunique(), data_.min(), data_.max())"
   ]
  },
  {
   "cell_type": "code",
   "execution_count": null,
   "metadata": {
    "executionInfo": {
     "elapsed": 24,
     "status": "ok",
     "timestamp": 1622826440148,
     "user": {
      "displayName": "Александр Сахнов",
      "photoUrl": "https://lh3.googleusercontent.com/a-/AOh14GgMDvqDsvLWycvxubr8wFo4sHGSLax7iRNm_7R7zaQ=s64",
      "userId": "16236737735295898069"
     },
     "user_tz": -180
    },
    "id": "AJPg8g-Weetr"
   },
   "outputs": [],
   "source": []
  },
  {
   "cell_type": "code",
   "execution_count": 51,
   "metadata": {
    "colab": {
     "base_uri": "https://localhost:8080/",
     "height": 664
    },
    "executionInfo": {
     "elapsed": 584,
     "status": "ok",
     "timestamp": 1622826440709,
     "user": {
      "displayName": "Александр Сахнов",
      "photoUrl": "https://lh3.googleusercontent.com/a-/AOh14GgMDvqDsvLWycvxubr8wFo4sHGSLax7iRNm_7R7zaQ=s64",
      "userId": "16236737735295898069"
     },
     "user_tz": -180
    },
    "id": "o63vYZ3hefjh",
    "outputId": "ac4b0122-2524-4186-fcc6-3e67ca4ff7ad"
   },
   "outputs": [
    {
     "data": {
      "image/png": "[encoded data removed]",
      "text/plain": [
       "<Figure size 1152x720 with 6 Axes>"
      ]
     },
     "metadata": {
      "needs_background": "light"
     },
     "output_type": "display_data"
    }
   ],
   "source": [
    "fig, ax = plt.subplots(2, 3, figsize=(16, 10))\n",
    "for column, ax in zip(data_sint.drop('group', axis=1).columns,\n",
    "                      ax.flatten()):\n",
    "    ax.set_xlabel(column)\n",
    "    data_pilot = data_sint[data_sint['group'] == 'pilot'][column].values\n",
    "    data_control = data_sint[data_sint['group'] == 'control'][column].values\n",
    "    bins = np.linspace(data_sint[column].min(), data_sint[column].max(), 28)\n",
    "    ax.hist([data_control, data_pilot], bins, label=['control', 'pilot'])\n",
    "    ax.legend()\n",
    "plt.show()"
   ]
  },
  {
   "cell_type": "markdown",
   "metadata": {
    "id": "64srD4pHcAZY"
   },
   "source": [
    "## Вычисление метрик\n",
    "\n",
    "Давайте попробуем посмотреть на числа. Всё же статистика -- наука о числах, а не про картинки. Прежде всего нам надо посчитать общие значения метрик по нашим группам. Для этого в [Pandas](https://pandas.pydata.org/) есть много удобных и полезных функций. Для группировки данных нам понадобиться функция [pandas.DataFrame.groupby](https://pandas.pydata.org/pandas-docs/stable/reference/api/pandas.DataFrame.groupby.html):\n",
    "\n",
    "```\n",
    "DataFrame.groupby(by=None, axis=0, level=None, as_index=True, sort=True, \n",
    "    group_keys=True, squeeze=<object object>, observed=False, dropna=True)\n",
    "```\n",
    "а для сбора агрегированной статистики можно воспользоваться [pandas.DataFrame.aggregate](https://pandas.pydata.org/pandas-docs/stable/reference/api/pandas.DataFrame.aggregate.html):\n",
    "```\n",
    "DataFrame.aggregate(func=None, axis=0, *args, **kwargs)\n",
    "```\n",
    "\n",
    "Подсчитаем трафик в каждой из групп, а так же суммарные расходы по каждому виду товаров:"
   ]
  },
  {
   "cell_type": "code",
   "execution_count": 52,
   "metadata": {
    "colab": {
     "base_uri": "https://localhost:8080/",
     "height": 158
    },
    "executionInfo": {
     "elapsed": 21,
     "status": "ok",
     "timestamp": 1622826440710,
     "user": {
      "displayName": "Александр Сахнов",
      "photoUrl": "https://lh3.googleusercontent.com/a-/AOh14GgMDvqDsvLWycvxubr8wFo4sHGSLax7iRNm_7R7zaQ=s64",
      "userId": "16236737735295898069"
     },
     "user_tz": -180
    },
    "id": "3dDWHSg-WSFQ",
    "outputId": "47aeeee2-62d7-4180-95e4-1deb8ef699ba"
   },
   "outputs": [
    {
     "data": {
      "text/html": [
       "<div>\n",
       "<style scoped>\n",
       "    .dataframe tbody tr th:only-of-type {\n",
       "        vertical-align: middle;\n",
       "    }\n",
       "\n",
       "    .dataframe tbody tr th {\n",
       "        vertical-align: top;\n",
       "    }\n",
       "\n",
       "    .dataframe thead th {\n",
       "        text-align: right;\n",
       "    }\n",
       "</style>\n",
       "<table border=\"1\" class=\"dataframe\">\n",
       "  <thead>\n",
       "    <tr style=\"text-align: right;\">\n",
       "      <th></th>\n",
       "      <th>traffic</th>\n",
       "      <th>revenue_phones</th>\n",
       "      <th>revenue_cases</th>\n",
       "      <th>revenue_accessories</th>\n",
       "      <th>revenue_assosiated</th>\n",
       "    </tr>\n",
       "    <tr>\n",
       "      <th>group</th>\n",
       "      <th></th>\n",
       "      <th></th>\n",
       "      <th></th>\n",
       "      <th></th>\n",
       "      <th></th>\n",
       "    </tr>\n",
       "  </thead>\n",
       "  <tbody>\n",
       "    <tr>\n",
       "      <th>control</th>\n",
       "      <td>3185</td>\n",
       "      <td>119043800</td>\n",
       "      <td>2607500</td>\n",
       "      <td>2428200</td>\n",
       "      <td>5035700</td>\n",
       "    </tr>\n",
       "    <tr>\n",
       "      <th>pilot</th>\n",
       "      <td>3267</td>\n",
       "      <td>122913900</td>\n",
       "      <td>3167000</td>\n",
       "      <td>2349600</td>\n",
       "      <td>5516600</td>\n",
       "    </tr>\n",
       "  </tbody>\n",
       "</table>\n",
       "</div>"
      ],
      "text/plain": [
       "         traffic  revenue_phones  revenue_cases  revenue_accessories  \\\n",
       "group                                                                  \n",
       "control     3185       119043800        2607500              2428200   \n",
       "pilot       3267       122913900        3167000              2349600   \n",
       "\n",
       "         revenue_assosiated  \n",
       "group                        \n",
       "control             5035700  \n",
       "pilot               5516600  "
      ]
     },
     "execution_count": 52,
     "metadata": {},
     "output_type": "execute_result"
    }
   ],
   "source": [
    "data_grouped = data_sint.groupby('group').agg(\n",
    "    traffic = ('group', 'count'),\n",
    "    revenue_phones = ('cost_phones', 'sum'),\n",
    "    revenue_cases = ('cost_cases', 'sum'),\n",
    "    revenue_accessories = ('cost_accessories', 'sum'),\n",
    "    revenue_assosiated = ('cost_associated', 'sum')\n",
    ")\n",
    "\n",
    "data_grouped"
   ]
  },
  {
   "cell_type": "markdown",
   "metadata": {
    "id": "L-KWHeC3icWB"
   },
   "source": [
    "Построим визуальное отображение для выручки по группам товаров:"
   ]
  },
  {
   "cell_type": "code",
   "execution_count": 53,
   "metadata": {
    "colab": {
     "base_uri": "https://localhost:8080/",
     "height": 607
    },
    "executionInfo": {
     "elapsed": 19,
     "status": "ok",
     "timestamp": 1622826440710,
     "user": {
      "displayName": "Александр Сахнов",
      "photoUrl": "https://lh3.googleusercontent.com/a-/AOh14GgMDvqDsvLWycvxubr8wFo4sHGSLax7iRNm_7R7zaQ=s64",
      "userId": "16236737735295898069"
     },
     "user_tz": -180
    },
    "id": "48GCWgJWy7_R",
    "outputId": "52df7ae9-b984-471d-ebbb-4279b42c8213"
   },
   "outputs": [
    {
     "data": {
      "text/plain": [
       "<AxesSubplot:>"
      ]
     },
     "execution_count": 53,
     "metadata": {},
     "output_type": "execute_result"
    },
    {
     "data": {
      "image/png": "[encoded data removed]",
      "text/plain": [
       "<Figure size 864x576 with 1 Axes>"
      ]
     },
     "metadata": {
      "needs_background": "light"
     },
     "output_type": "display_data"
    }
   ],
   "source": [
    "revenue = data_grouped[[col for col in data_grouped.columns if 'revenue' in col]].T\n",
    "revenue.plot(kind='bar', grid=True)"
   ]
  },
  {
   "cell_type": "markdown",
   "metadata": {
    "id": "MYa3YJDCzTPY"
   },
   "source": [
    "График немного неинформативен из-за значительной разницы в масштабе. Но мы можем добавить магии matplotlib и симулировать разрыв в вертикальной оси:"
   ]
  },
  {
   "cell_type": "code",
   "execution_count": 54,
   "metadata": {
    "colab": {
     "base_uri": "https://localhost:8080/",
     "height": 607
    },
    "executionInfo": {
     "elapsed": 389,
     "status": "ok",
     "timestamp": 1622826441088,
     "user": {
      "displayName": "Александр Сахнов",
      "photoUrl": "https://lh3.googleusercontent.com/a-/AOh14GgMDvqDsvLWycvxubr8wFo4sHGSLax7iRNm_7R7zaQ=s64",
      "userId": "16236737735295898069"
     },
     "user_tz": -180
    },
    "id": "T9ccE-iGifIj",
    "outputId": "093da519-1c7c-401f-f431-7a2230b6c894"
   },
   "outputs": [
    {
     "data": {
      "text/plain": [
       "<AxesSubplot:>"
      ]
     },
     "execution_count": 54,
     "metadata": {},
     "output_type": "execute_result"
    },
    {
     "data": {
      "image/png": "[encoded data removed]",
      "text/plain": [
       "<Figure size 864x576 with 2 Axes>"
      ]
     },
     "metadata": {
      "needs_background": "light"
     },
     "output_type": "display_data"
    }
   ],
   "source": [
    "# https://stackoverflow.com/questions/53642861/broken-axis-slash-marks-inside-bar-chart-in-matplotlib\n",
    "\n",
    "fig, (ax1,ax2) = plt.subplots(2, 1, sharex=True)\n",
    "ax1.spines['bottom'].set_visible(False)\n",
    "ax1.tick_params(axis='x',which='both',bottom=False)\n",
    "ax2.spines['top'].set_visible(False)\n",
    "ax2.set_ylim(0, 7 * 10 ** 6)\n",
    "ax1.set_ylim(118 * 10 ** 6, 123 * 10 ** 6)\n",
    "\n",
    "revenue.plot(ax=ax1, kind='bar', grid=True)\n",
    "revenue.plot(ax=ax2, kind='bar', legend=False, grid=True)"
   ]
  },
  {
   "cell_type": "markdown",
   "metadata": {
    "id": "N_pOIim8AYoe"
   },
   "source": [
    "Мы видим, что наша целевая метрика -- выручка по чехлам -- выросла. \n",
    "Немного просела выручка по аксессуарам, но падение незначительное.\n",
    "Но главное в том, что значительно вырос основной показатель -- продажи мобильных телефонов. То есть цель выглядит достигнутой..."
   ]
  },
  {
   "cell_type": "markdown",
   "metadata": {
    "id": "v1Roj0v8We-k"
   },
   "source": [
    "Так же мы можем посмотреть как на величину среднего чека, так и на средние значения по группам."
   ]
  },
  {
   "cell_type": "code",
   "execution_count": 55,
   "metadata": {
    "colab": {
     "base_uri": "https://localhost:8080/",
     "height": 158
    },
    "executionInfo": {
     "elapsed": 28,
     "status": "ok",
     "timestamp": 1622826441089,
     "user": {
      "displayName": "Александр Сахнов",
      "photoUrl": "https://lh3.googleusercontent.com/a-/AOh14GgMDvqDsvLWycvxubr8wFo4sHGSLax7iRNm_7R7zaQ=s64",
      "userId": "16236737735295898069"
     },
     "user_tz": -180
    },
    "id": "diDxegYvTQFq",
    "outputId": "45af86f0-0b98-4d4f-aa40-3d847b49c0fd"
   },
   "outputs": [
    {
     "data": {
      "text/html": [
       "<div>\n",
       "<style scoped>\n",
       "    .dataframe tbody tr th:only-of-type {\n",
       "        vertical-align: middle;\n",
       "    }\n",
       "\n",
       "    .dataframe tbody tr th {\n",
       "        vertical-align: top;\n",
       "    }\n",
       "\n",
       "    .dataframe thead th {\n",
       "        text-align: right;\n",
       "    }\n",
       "</style>\n",
       "<table border=\"1\" class=\"dataframe\">\n",
       "  <thead>\n",
       "    <tr style=\"text-align: right;\">\n",
       "      <th></th>\n",
       "      <th>cost_phones</th>\n",
       "      <th>cost_cases</th>\n",
       "      <th>cost_accessories</th>\n",
       "      <th>cost_total</th>\n",
       "      <th>cost_associated</th>\n",
       "    </tr>\n",
       "    <tr>\n",
       "      <th>group</th>\n",
       "      <th></th>\n",
       "      <th></th>\n",
       "      <th></th>\n",
       "      <th></th>\n",
       "      <th></th>\n",
       "    </tr>\n",
       "  </thead>\n",
       "  <tbody>\n",
       "    <tr>\n",
       "      <th>control</th>\n",
       "      <td>37376</td>\n",
       "      <td>818</td>\n",
       "      <td>762</td>\n",
       "      <td>38957</td>\n",
       "      <td>1581</td>\n",
       "    </tr>\n",
       "    <tr>\n",
       "      <th>pilot</th>\n",
       "      <td>37622</td>\n",
       "      <td>969</td>\n",
       "      <td>719</td>\n",
       "      <td>39311</td>\n",
       "      <td>1688</td>\n",
       "    </tr>\n",
       "  </tbody>\n",
       "</table>\n",
       "</div>"
      ],
      "text/plain": [
       "         cost_phones  cost_cases  cost_accessories  cost_total  \\\n",
       "group                                                            \n",
       "control        37376         818               762       38957   \n",
       "pilot          37622         969               719       39311   \n",
       "\n",
       "         cost_associated  \n",
       "group                     \n",
       "control             1581  \n",
       "pilot               1688  "
      ]
     },
     "execution_count": 55,
     "metadata": {},
     "output_type": "execute_result"
    }
   ],
   "source": [
    "data_sint.groupby('group')[cost_columns].mean().astype(int)"
   ]
  },
  {
   "cell_type": "markdown",
   "metadata": {
    "id": "2SimPB4JTQFr"
   },
   "source": [
    "Средний чек в пилотной группе меньше только по аксессуарам без учёта чехлов (cost_accessories), по остальным группам средний чек в пилотной группе стал больше."
   ]
  },
  {
   "cell_type": "markdown",
   "metadata": {
    "id": "ALwuQ7V1TQFr"
   },
   "source": [
    "## Проверка стат значимости\n",
    "\n",
    "НО! Решения не принимаются на глаз. Человек склонен ошибаться и выдавать желаемое за действительное. Давайте считать статзначимость!\n",
    "\n",
    "Проверим статистическую значимость отличий продаж по разным группам товаров.\n",
    "\n",
    "Учтём, что в группах было по 110523 пользовательских сессий, а покупок чуть больше 3000 в каждой из групп. Соответственно, все сессии без покупок заполним нулями."
   ]
  },
  {
   "cell_type": "code",
   "execution_count": 56,
   "metadata": {
    "colab": {
     "base_uri": "https://localhost:8080/"
    },
    "executionInfo": {
     "elapsed": 27,
     "status": "ok",
     "timestamp": 1622826441089,
     "user": {
      "displayName": "Александр Сахнов",
      "photoUrl": "https://lh3.googleusercontent.com/a-/AOh14GgMDvqDsvLWycvxubr8wFo4sHGSLax7iRNm_7R7zaQ=s64",
      "userId": "16236737735295898069"
     },
     "user_tz": -180
    },
    "id": "-1L3NtQdTQFr",
    "outputId": "114b86b0-9407-42d6-c29f-a5036db0503a"
   },
   "outputs": [
    {
     "name": "stdout",
     "output_type": "stream",
     "text": [
      "cost_phones\n",
      "  delta = 35.02\n",
      "  pvalue = 0.148 \n",
      "cost_cases\n",
      "  delta = 5.06\n",
      "  pvalue = 0.0 - значимо\n",
      "cost_accessories\n",
      "  delta = -0.71\n",
      "  pvalue = 0.83 \n",
      "cost_total\n",
      "  delta = 39.37\n",
      "  pvalue = 0.147 \n",
      "cost_associated\n",
      "  delta = 4.35\n",
      "  pvalue = 0.0 - значимо\n"
     ]
    }
   ],
   "source": [
    "GROUP_SIZE = 110_523\n",
    "\n",
    "for column in cost_columns:\n",
    "    print(column)\n",
    "    a_values_nonzero = data_sint[data_sint['group'] == 'control'][column].values\n",
    "    b_values_nonzero = data_sint[data_sint['group'] == 'pilot'][column].values\n",
    "    \n",
    "    a_values = np.zeros(GROUP_SIZE)\n",
    "    b_values = np.zeros(GROUP_SIZE)\n",
    "    a_values[:len(a_values_nonzero)] = a_values_nonzero\n",
    "    b_values[:len(b_values_nonzero)] = b_values_nonzero\n",
    "    \n",
    "    delta = b_values.mean() - a_values.mean()\n",
    "    _, pvalue = stats.mannwhitneyu(a_values, b_values, alternative='less')\n",
    "    print(f'  delta = {round(delta, 2)}')\n",
    "    print(f'  pvalue = {round(pvalue, 3)}', '- значимо' if pvalue < 0.05 else '')"
   ]
  },
  {
   "cell_type": "markdown",
   "metadata": {
    "id": "yvYkJ5zaTQFs"
   },
   "source": [
    "Получили, что целевая метрика cost_cases_accessories статистически значимо увеличилась. Большинство контрольных метрик согласуются с гипотезой. Продажи прочих аксессуаров упали, но статистически не значимо, возможная причина - каннибализация. Это не критично, тк в сумме продажи прочих аксессуаров и чехлов выросли."
   ]
  },
  {
   "cell_type": "code",
   "execution_count": null,
   "metadata": {},
   "outputs": [],
   "source": []
  },
  {
   "cell_type": "code",
   "execution_count": null,
   "metadata": {},
   "outputs": [],
   "source": []
  },
  {
   "cell_type": "code",
   "execution_count": null,
   "metadata": {},
   "outputs": [],
   "source": []
  },
  {
   "cell_type": "code",
   "execution_count": null,
   "metadata": {},
   "outputs": [],
   "source": []
  },
  {
   "cell_type": "code",
   "execution_count": null,
   "metadata": {},
   "outputs": [],
   "source": []
  },
  {
   "cell_type": "code",
   "execution_count": null,
   "metadata": {},
   "outputs": [],
   "source": []
  },
  {
   "cell_type": "code",
   "execution_count": null,
   "metadata": {},
   "outputs": [],
   "source": []
  },
  {
   "cell_type": "code",
   "execution_count": null,
   "metadata": {},
   "outputs": [],
   "source": []
  },
  {
   "cell_type": "code",
   "execution_count": null,
   "metadata": {},
   "outputs": [],
   "source": []
  },
  {
   "cell_type": "code",
   "execution_count": null,
   "metadata": {},
   "outputs": [],
   "source": []
  },
  {
   "cell_type": "code",
   "execution_count": null,
   "metadata": {},
   "outputs": [],
   "source": []
  },
  {
   "cell_type": "code",
   "execution_count": null,
   "metadata": {},
   "outputs": [],
   "source": []
  },
  {
   "cell_type": "code",
   "execution_count": null,
   "metadata": {},
   "outputs": [],
   "source": []
  },
  {
   "cell_type": "code",
   "execution_count": null,
   "metadata": {},
   "outputs": [],
   "source": []
  }
 ],
 "metadata": {
  "colab": {
   "collapsed_sections": [],
   "name": "Копия seminar_2.ipynb",
   "provenance": []
  },
  "kernelspec": {
   "display_name": "Python 3 (ipykernel)",
   "language": "python",
   "name": "python3"
  },
  "language_info": {
   "codemirror_mode": {
    "name": "ipython",
    "version": 3
   },
   "file_extension": ".py",
   "mimetype": "text/x-python",
   "name": "python",
   "nbconvert_exporter": "python",
   "pygments_lexer": "ipython3",
   "version": "3.13.0"
  }
 },
 "nbformat": 4,
 "nbformat_minor": 4
}
