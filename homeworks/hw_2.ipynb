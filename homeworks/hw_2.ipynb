{
 "cells": [
  {
   "cell_type": "markdown",
   "metadata": {},
   "source": [
    "В данной домашней работе все задачи — практические. В них необходимо попытаться применить\n",
    "все возможные инструменты, которые мы изучали, чтобы ответить на заданный в задаче вопрос.\n",
    "Не забывайте об одном из самых важных инструментов — визуализации. Ваши решения необходимо\n",
    "сопроводить краткими комментариями и выводами, которые Вы сделали на основе анализа.\n",
    "\n",
    "Все сопутсвующие файлы находятся в папке hw_2_data"
   ]
  },
  {
   "cell_type": "markdown",
   "metadata": {},
   "source": [
    "**Упражнение 1.** В файле anorexia.txt записан вес пациентов до начала терапии анорексии и после ее окончания. Была ли терапия в эффективна?"
   ]
  },
  {
   "cell_type": "code",
   "execution_count": 1,
   "metadata": {},
   "outputs": [
    {
     "name": "stderr",
     "output_type": "stream",
     "text": [
      "/Users/akimkalenuk/opt/anaconda3/lib/python3.8/site-packages/pandas/core/computation/expressions.py:20: UserWarning: Pandas requires version '2.7.3' or newer of 'numexpr' (version '2.7.1' currently installed).\n",
      "  from pandas.core.computation.check import NUMEXPR_INSTALLED\n"
     ]
    }
   ],
   "source": [
    "import pandas as pd\n",
    "import numpy as np\n",
    "import matplotlib.pyplot as plt\n",
    "from scipy import stats"
   ]
  },
  {
   "cell_type": "code",
   "execution_count": 5,
   "metadata": {
    "scrolled": true
   },
   "outputs": [
    {
     "data": {
      "text/html": [
       "<div>\n",
       "<style scoped>\n",
       "    .dataframe tbody tr th:only-of-type {\n",
       "        vertical-align: middle;\n",
       "    }\n",
       "\n",
       "    .dataframe tbody tr th {\n",
       "        vertical-align: top;\n",
       "    }\n",
       "\n",
       "    .dataframe thead th {\n",
       "        text-align: right;\n",
       "    }\n",
       "</style>\n",
       "<table border=\"1\" class=\"dataframe\">\n",
       "  <thead>\n",
       "    <tr style=\"text-align: right;\">\n",
       "      <th></th>\n",
       "      <th>Before</th>\n",
       "      <th>After</th>\n",
       "    </tr>\n",
       "  </thead>\n",
       "  <tbody>\n",
       "    <tr>\n",
       "      <th>0</th>\n",
       "      <td>80.5</td>\n",
       "      <td>82.2</td>\n",
       "    </tr>\n",
       "    <tr>\n",
       "      <th>1</th>\n",
       "      <td>84.9</td>\n",
       "      <td>85.6</td>\n",
       "    </tr>\n",
       "    <tr>\n",
       "      <th>2</th>\n",
       "      <td>81.5</td>\n",
       "      <td>81.4</td>\n",
       "    </tr>\n",
       "    <tr>\n",
       "      <th>3</th>\n",
       "      <td>82.6</td>\n",
       "      <td>81.9</td>\n",
       "    </tr>\n",
       "    <tr>\n",
       "      <th>4</th>\n",
       "      <td>79.9</td>\n",
       "      <td>76.4</td>\n",
       "    </tr>\n",
       "    <tr>\n",
       "      <th>5</th>\n",
       "      <td>88.7</td>\n",
       "      <td>103.6</td>\n",
       "    </tr>\n",
       "    <tr>\n",
       "      <th>6</th>\n",
       "      <td>94.9</td>\n",
       "      <td>98.4</td>\n",
       "    </tr>\n",
       "    <tr>\n",
       "      <th>7</th>\n",
       "      <td>76.3</td>\n",
       "      <td>93.4</td>\n",
       "    </tr>\n",
       "    <tr>\n",
       "      <th>8</th>\n",
       "      <td>81.0</td>\n",
       "      <td>73.4</td>\n",
       "    </tr>\n",
       "    <tr>\n",
       "      <th>9</th>\n",
       "      <td>80.5</td>\n",
       "      <td>82.1</td>\n",
       "    </tr>\n",
       "    <tr>\n",
       "      <th>10</th>\n",
       "      <td>85.0</td>\n",
       "      <td>96.7</td>\n",
       "    </tr>\n",
       "    <tr>\n",
       "      <th>11</th>\n",
       "      <td>89.2</td>\n",
       "      <td>95.3</td>\n",
       "    </tr>\n",
       "    <tr>\n",
       "      <th>12</th>\n",
       "      <td>81.3</td>\n",
       "      <td>82.4</td>\n",
       "    </tr>\n",
       "    <tr>\n",
       "      <th>13</th>\n",
       "      <td>76.5</td>\n",
       "      <td>72.5</td>\n",
       "    </tr>\n",
       "    <tr>\n",
       "      <th>14</th>\n",
       "      <td>70.0</td>\n",
       "      <td>90.9</td>\n",
       "    </tr>\n",
       "    <tr>\n",
       "      <th>15</th>\n",
       "      <td>80.4</td>\n",
       "      <td>71.3</td>\n",
       "    </tr>\n",
       "    <tr>\n",
       "      <th>16</th>\n",
       "      <td>83.3</td>\n",
       "      <td>85.4</td>\n",
       "    </tr>\n",
       "    <tr>\n",
       "      <th>17</th>\n",
       "      <td>83.0</td>\n",
       "      <td>81.6</td>\n",
       "    </tr>\n",
       "    <tr>\n",
       "      <th>18</th>\n",
       "      <td>87.7</td>\n",
       "      <td>89.1</td>\n",
       "    </tr>\n",
       "    <tr>\n",
       "      <th>19</th>\n",
       "      <td>84.2</td>\n",
       "      <td>83.9</td>\n",
       "    </tr>\n",
       "    <tr>\n",
       "      <th>20</th>\n",
       "      <td>86.4</td>\n",
       "      <td>82.7</td>\n",
       "    </tr>\n",
       "    <tr>\n",
       "      <th>21</th>\n",
       "      <td>76.5</td>\n",
       "      <td>75.7</td>\n",
       "    </tr>\n",
       "    <tr>\n",
       "      <th>22</th>\n",
       "      <td>80.2</td>\n",
       "      <td>82.6</td>\n",
       "    </tr>\n",
       "    <tr>\n",
       "      <th>23</th>\n",
       "      <td>87.8</td>\n",
       "      <td>100.4</td>\n",
       "    </tr>\n",
       "    <tr>\n",
       "      <th>24</th>\n",
       "      <td>83.3</td>\n",
       "      <td>85.2</td>\n",
       "    </tr>\n",
       "    <tr>\n",
       "      <th>25</th>\n",
       "      <td>79.7</td>\n",
       "      <td>83.6</td>\n",
       "    </tr>\n",
       "    <tr>\n",
       "      <th>26</th>\n",
       "      <td>84.5</td>\n",
       "      <td>84.6</td>\n",
       "    </tr>\n",
       "    <tr>\n",
       "      <th>27</th>\n",
       "      <td>80.8</td>\n",
       "      <td>96.2</td>\n",
       "    </tr>\n",
       "    <tr>\n",
       "      <th>28</th>\n",
       "      <td>87.4</td>\n",
       "      <td>86.7</td>\n",
       "    </tr>\n",
       "  </tbody>\n",
       "</table>\n",
       "</div>"
      ],
      "text/plain": [
       "    Before  After\n",
       "0     80.5   82.2\n",
       "1     84.9   85.6\n",
       "2     81.5   81.4\n",
       "3     82.6   81.9\n",
       "4     79.9   76.4\n",
       "5     88.7  103.6\n",
       "6     94.9   98.4\n",
       "7     76.3   93.4\n",
       "8     81.0   73.4\n",
       "9     80.5   82.1\n",
       "10    85.0   96.7\n",
       "11    89.2   95.3\n",
       "12    81.3   82.4\n",
       "13    76.5   72.5\n",
       "14    70.0   90.9\n",
       "15    80.4   71.3\n",
       "16    83.3   85.4\n",
       "17    83.0   81.6\n",
       "18    87.7   89.1\n",
       "19    84.2   83.9\n",
       "20    86.4   82.7\n",
       "21    76.5   75.7\n",
       "22    80.2   82.6\n",
       "23    87.8  100.4\n",
       "24    83.3   85.2\n",
       "25    79.7   83.6\n",
       "26    84.5   84.6\n",
       "27    80.8   96.2\n",
       "28    87.4   86.7"
      ]
     },
     "execution_count": 5,
     "metadata": {},
     "output_type": "execute_result"
    }
   ],
   "source": [
    "df = pd.read_csv('hw_2_data/anorexia.txt', sep='\\t')\n",
    "df"
   ]
  },
  {
   "cell_type": "code",
   "execution_count": 6,
   "metadata": {},
   "outputs": [],
   "source": [
    "df['diff'] = df['Before'] - df['After']"
   ]
  },
  {
   "cell_type": "code",
   "execution_count": 7,
   "metadata": {},
   "outputs": [
    {
     "name": "stdout",
     "output_type": "stream",
     "text": [
      "mean_diff: -3.01 кг\n",
      "std_diff: 7.31 кг\n"
     ]
    }
   ],
   "source": [
    "mean_diff = df['diff'].mean()\n",
    "std_diff = df['diff'].std()\n",
    "print(f\"mean_diff: {mean_diff:.2f} кг\")\n",
    "print(f\"std_diff: {std_diff:.2f} кг\")"
   ]
  },
  {
   "cell_type": "code",
   "execution_count": 8,
   "metadata": {},
   "outputs": [
    {
     "data": {
      "image/png": "[encoded data removed]",
      "text/plain": [
       "<Figure size 432x288 with 1 Axes>"
      ]
     },
     "metadata": {
      "needs_background": "light"
     },
     "output_type": "display_data"
    }
   ],
   "source": [
    "plt.hist(df['diff'], bins=10, edgecolor='black')\n",
    "plt.title('Гистограмма разницы в весе')\n",
    "plt.xlabel('Разница в весе (кг)')\n",
    "plt.ylabel('Частота')\n",
    "plt.show()"
   ]
  },
  {
   "cell_type": "code",
   "execution_count": 9,
   "metadata": {},
   "outputs": [
    {
     "data": {
      "image/png": "[encoded data removed]",
      "text/plain": [
       "<Figure size 432x288 with 1 Axes>"
      ]
     },
     "metadata": {
      "needs_background": "light"
     },
     "output_type": "display_data"
    }
   ],
   "source": [
    "plt.boxplot([df['Before'], df['After']], labels=['Before', 'After'])\n",
    "plt.title('Boxplot веса до и после терапии')\n",
    "plt.ylabel('Вес (кг)')\n",
    "plt.show()"
   ]
  },
  {
   "cell_type": "code",
   "execution_count": 23,
   "metadata": {},
   "outputs": [
    {
     "data": {
      "image/png": "[encoded data removed]",
      "text/plain": [
       "<Figure size 432x288 with 1 Axes>"
      ]
     },
     "metadata": {
      "needs_background": "light"
     },
     "output_type": "display_data"
    }
   ],
   "source": [
    "plt.scatter(df['Before'], df['After'])\n",
    "plt.plot([df['Before'].min(), df['Before'].max()], [df['Before'].min(), df['Before'].max()], 'r--')\n",
    "plt.title('Диаграмма рассеяния: вес до vs после терапии')\n",
    "plt.xlabel('Вес до терапии (кг)')\n",
    "plt.ylabel('Вес после терапии (кг)')\n",
    "plt.show()"
   ]
  },
  {
   "cell_type": "code",
   "execution_count": 42,
   "metadata": {},
   "outputs": [
    {
     "name": "stdout",
     "output_type": "stream",
     "text": [
      "Группа A - статистика Шапиро-Уилка: 0.9699, p-значение: 0.5580\n",
      "Группа B - статистика Шапиро-Уилка: 0.9520, p-значение: 0.2057\n"
     ]
    }
   ],
   "source": [
    "shapiro_stat_A, shapiro_p_A = stats.shapiro(df['Before'])\n",
    "shapiro_stat_B, shapiro_p_B = stats.shapiro(df['After'])\n",
    "print(f\"Группа A - статистика Шапиро-Уилка: {shapiro_stat_A:.4f}, p-значение: {shapiro_p_A:.4f}\")\n",
    "print(f\"Группа B - статистика Шапиро-Уилка: {shapiro_stat_B:.4f}, p-значение: {shapiro_p_B:.4f}\")"
   ]
  },
  {
   "cell_type": "markdown",
   "metadata": {},
   "source": [
    "Наблюдения имеют нормальное распределение"
   ]
  },
  {
   "cell_type": "markdown",
   "metadata": {},
   "source": [
    "Проверим применимость стат тестов для наших денных. Проведем **AA-тесты**."
   ]
  },
  {
   "cell_type": "code",
   "execution_count": 30,
   "metadata": {},
   "outputs": [
    {
     "name": "stdout",
     "output_type": "stream",
     "text": [
      "Частота ошибки первого рода: 4.92%\n"
     ]
    }
   ],
   "source": [
    "before_weights = np.array(df['Before'])\n",
    "\n",
    "num_tests = 10000  \n",
    "alpha = 0.05      \n",
    "significant_results = 0  \n",
    "\n",
    "def perform_aa_test(data):\n",
    "    shuffled_data = np.random.permutation(data)\n",
    "    midpoint = len(shuffled_data) // 2\n",
    "    group_A = shuffled_data[:midpoint]\n",
    "    group_B = shuffled_data[midpoint:]\n",
    "    t_stat, p_value = stats.ttest_ind(group_A, group_B, equal_var=False)\n",
    "    return p_value\n",
    "\n",
    "for _ in range(num_tests):\n",
    "    p_val = perform_aa_test(before_weights)\n",
    "    if p_val < alpha:\n",
    "        significant_results += 1\n",
    "\n",
    "type_I_error_rate = significant_results / num_tests * 100\n",
    "print(f\"Частота ошибки первого рода: {type_I_error_rate:.2f}%\")"
   ]
  },
  {
   "cell_type": "code",
   "execution_count": 39,
   "metadata": {},
   "outputs": [
    {
     "name": "stdout",
     "output_type": "stream",
     "text": [
      "Мощность: 33.98%\n"
     ]
    }
   ],
   "source": [
    "significant_results = 0\n",
    "num_tests = 10000\n",
    "\n",
    "def perform_ab_test(data):\n",
    "    shuffled_data = np.random.permutation(data)\n",
    "    midpoint = len(shuffled_data) // 2\n",
    "    group_A = shuffled_data[:midpoint]\n",
    "    group_B = shuffled_data[midpoint:] - mean_diff \n",
    "    t_stat, p_value = stats.ttest_ind(group_A, group_B, equal_var=False)\n",
    "    return p_value\n",
    "\n",
    "for _ in range(num_tests):\n",
    "    p_val = perform_aa_test(before_weights)\n",
    "    if p_val < alpha:\n",
    "        significant_results += 1\n",
    "\n",
    "power_rate = significant_results / num_tests * 100\n",
    "print(f\"Мощность: {power_rate:.2f}%\")"
   ]
  },
  {
   "cell_type": "markdown",
   "metadata": {},
   "source": [
    "t-test применим для наших данных, но в то же время для данной разницы, у него низкая мощность"
   ]
  },
  {
   "cell_type": "code",
   "execution_count": 41,
   "metadata": {},
   "outputs": [
    {
     "name": "stdout",
     "output_type": "stream",
     "text": [
      "t-статистика : -1.68, p-значение: 0.1005\n"
     ]
    }
   ],
   "source": [
    "t_stat_ind, p_value_ind = stats.ttest_ind(df['Before'], df['After'], equal_var=False)\n",
    "print(f\"t-статистика : {t_stat_ind:.2f}, p-значение: {p_value_ind:.4f}\")"
   ]
  },
  {
   "cell_type": "markdown",
   "metadata": {},
   "source": [
    "не найдено стат значимых различий"
   ]
  },
  {
   "cell_type": "markdown",
   "metadata": {},
   "source": [
    "Посмотрим другие критерии"
   ]
  },
  {
   "cell_type": "code",
   "execution_count": 43,
   "metadata": {},
   "outputs": [
    {
     "name": "stdout",
     "output_type": "stream",
     "text": [
      "Частота ошибки первого рода (Манна-Уитни): 4.86%\n"
     ]
    }
   ],
   "source": [
    "significant_results_mw = 0\n",
    "\n",
    "for _ in range(num_tests):\n",
    "    shuffled_data = np.random.permutation(before_weights)\n",
    "    midpoint = len(shuffled_data) // 2\n",
    "    group_A = shuffled_data[:midpoint]\n",
    "    group_B = shuffled_data[midpoint:]\n",
    "    u_stat, p_value_mw = stats.mannwhitneyu(group_A, group_B, alternative='two-sided')\n",
    "    if p_value_mw < alpha:\n",
    "        significant_results_mw += 1\n",
    "\n",
    "type_I_error_rate_mw = significant_results_mw / num_tests * 100\n",
    "print(f\"Частота ошибки первого рода (Манна-Уитни): {type_I_error_rate_mw:.2f}%\")"
   ]
  },
  {
   "cell_type": "code",
   "execution_count": 45,
   "metadata": {},
   "outputs": [
    {
     "name": "stdout",
     "output_type": "stream",
     "text": [
      "Мощность (Манна-Уитни): 32.79%\n"
     ]
    }
   ],
   "source": [
    "significant_results_mw = 0\n",
    "\n",
    "for _ in range(num_tests):\n",
    "    shuffled_data = np.random.permutation(before_weights)\n",
    "    midpoint = len(shuffled_data) // 2\n",
    "    group_A = shuffled_data[:midpoint]\n",
    "    group_B = shuffled_data[midpoint:] - mean_diff\n",
    "    u_stat, p_value_mw = stats.mannwhitneyu(group_A, group_B, alternative='two-sided')\n",
    "    if p_value_mw < alpha:\n",
    "        significant_results_mw += 1\n",
    "\n",
    "power_mw = significant_results_mw / num_tests * 100\n",
    "print(f\"Мощность (Манна-Уитни): {power_mw:.2f}%\")"
   ]
  },
  {
   "cell_type": "code",
   "execution_count": 46,
   "metadata": {},
   "outputs": [
    {
     "name": "stdout",
     "output_type": "stream",
     "text": [
      "Статистика теста Манна-Уитни: 320.5, p-значение: 0.1218\n"
     ]
    }
   ],
   "source": [
    "u_stat, p_value_mannwhitney = stats.mannwhitneyu(df['Before'], df['After'], alternative='two-sided')\n",
    "print(f\"Статистика теста Манна-Уитни: {u_stat}, p-значение: {p_value_mannwhitney:.4f}\")"
   ]
  },
  {
   "cell_type": "markdown",
   "metadata": {},
   "source": [
    "не найдено стат значимых различий"
   ]
  },
  {
   "cell_type": "markdown",
   "metadata": {},
   "source": [
    "**Упражнение 2.** В файле weights.txt записан вес пациентов мужского и женского\n",
    "пола. Есть ли значимые различия в весе мужчин и женщин?"
   ]
  },
  {
   "cell_type": "code",
   "execution_count": 47,
   "metadata": {
    "scrolled": true
   },
   "outputs": [
    {
     "data": {
      "text/html": [
       "<div>\n",
       "<style scoped>\n",
       "    .dataframe tbody tr th:only-of-type {\n",
       "        vertical-align: middle;\n",
       "    }\n",
       "\n",
       "    .dataframe tbody tr th {\n",
       "        vertical-align: top;\n",
       "    }\n",
       "\n",
       "    .dataframe thead th {\n",
       "        text-align: right;\n",
       "    }\n",
       "</style>\n",
       "<table border=\"1\" class=\"dataframe\">\n",
       "  <thead>\n",
       "    <tr style=\"text-align: right;\">\n",
       "      <th></th>\n",
       "      <th>Group</th>\n",
       "      <th>Weight</th>\n",
       "    </tr>\n",
       "  </thead>\n",
       "  <tbody>\n",
       "    <tr>\n",
       "      <th>0</th>\n",
       "      <td>Woman</td>\n",
       "      <td>38.9</td>\n",
       "    </tr>\n",
       "    <tr>\n",
       "      <th>1</th>\n",
       "      <td>Woman</td>\n",
       "      <td>61.2</td>\n",
       "    </tr>\n",
       "    <tr>\n",
       "      <th>2</th>\n",
       "      <td>Woman</td>\n",
       "      <td>73.3</td>\n",
       "    </tr>\n",
       "    <tr>\n",
       "      <th>3</th>\n",
       "      <td>Woman</td>\n",
       "      <td>21.8</td>\n",
       "    </tr>\n",
       "    <tr>\n",
       "      <th>4</th>\n",
       "      <td>Woman</td>\n",
       "      <td>63.4</td>\n",
       "    </tr>\n",
       "    <tr>\n",
       "      <th>5</th>\n",
       "      <td>Woman</td>\n",
       "      <td>64.6</td>\n",
       "    </tr>\n",
       "    <tr>\n",
       "      <th>6</th>\n",
       "      <td>Woman</td>\n",
       "      <td>48.4</td>\n",
       "    </tr>\n",
       "    <tr>\n",
       "      <th>7</th>\n",
       "      <td>Woman</td>\n",
       "      <td>48.8</td>\n",
       "    </tr>\n",
       "    <tr>\n",
       "      <th>8</th>\n",
       "      <td>Woman</td>\n",
       "      <td>48.5</td>\n",
       "    </tr>\n",
       "    <tr>\n",
       "      <th>9</th>\n",
       "      <td>Woman</td>\n",
       "      <td>50.1</td>\n",
       "    </tr>\n",
       "    <tr>\n",
       "      <th>10</th>\n",
       "      <td>Man</td>\n",
       "      <td>60.0</td>\n",
       "    </tr>\n",
       "    <tr>\n",
       "      <th>11</th>\n",
       "      <td>Man</td>\n",
       "      <td>63.4</td>\n",
       "    </tr>\n",
       "    <tr>\n",
       "      <th>12</th>\n",
       "      <td>Man</td>\n",
       "      <td>76.0</td>\n",
       "    </tr>\n",
       "    <tr>\n",
       "      <th>13</th>\n",
       "      <td>Man</td>\n",
       "      <td>89.4</td>\n",
       "    </tr>\n",
       "    <tr>\n",
       "      <th>14</th>\n",
       "      <td>Man</td>\n",
       "      <td>73.3</td>\n",
       "    </tr>\n",
       "    <tr>\n",
       "      <th>15</th>\n",
       "      <td>Man</td>\n",
       "      <td>67.3</td>\n",
       "    </tr>\n",
       "    <tr>\n",
       "      <th>16</th>\n",
       "      <td>Man</td>\n",
       "      <td>61.3</td>\n",
       "    </tr>\n",
       "    <tr>\n",
       "      <th>17</th>\n",
       "      <td>Man</td>\n",
       "      <td>62.4</td>\n",
       "    </tr>\n",
       "    <tr>\n",
       "      <th>18</th>\n",
       "      <td>Man</td>\n",
       "      <td>64.3</td>\n",
       "    </tr>\n",
       "    <tr>\n",
       "      <th>19</th>\n",
       "      <td>Man</td>\n",
       "      <td>72.2</td>\n",
       "    </tr>\n",
       "  </tbody>\n",
       "</table>\n",
       "</div>"
      ],
      "text/plain": [
       "    Group  Weight\n",
       "0   Woman    38.9\n",
       "1   Woman    61.2\n",
       "2   Woman    73.3\n",
       "3   Woman    21.8\n",
       "4   Woman    63.4\n",
       "5   Woman    64.6\n",
       "6   Woman    48.4\n",
       "7   Woman    48.8\n",
       "8   Woman    48.5\n",
       "9   Woman    50.1\n",
       "10    Man    60.0\n",
       "11    Man    63.4\n",
       "12    Man    76.0\n",
       "13    Man    89.4\n",
       "14    Man    73.3\n",
       "15    Man    67.3\n",
       "16    Man    61.3\n",
       "17    Man    62.4\n",
       "18    Man    64.3\n",
       "19    Man    72.2"
      ]
     },
     "execution_count": 47,
     "metadata": {},
     "output_type": "execute_result"
    }
   ],
   "source": [
    "df = pd.read_csv('hw_2_data/weights.txt', sep='\\t')\n",
    "df"
   ]
  },
  {
   "cell_type": "code",
   "execution_count": 49,
   "metadata": {},
   "outputs": [
    {
     "name": "stdout",
     "output_type": "stream",
     "text": [
      "Средний вес женщин: 51.90 кг, стандартное отклонение: 14.72 кг\n",
      "Средний вес мужчин: 68.96 кг, стандартное отклонение: 9.03 кг\n"
     ]
    }
   ],
   "source": [
    "women_weights = df[df['Group'] == 'Woman']['Weight']\n",
    "men_weights = df[df['Group'] == 'Man']['Weight']\n",
    "\n",
    "mean_women = women_weights.mean()\n",
    "std_women = women_weights.std()\n",
    "mean_men = men_weights.mean()\n",
    "std_men = men_weights.std()\n",
    "\n",
    "print(f\"Средний вес женщин: {mean_women:.2f} кг, стандартное отклонение: {std_women:.2f} кг\")\n",
    "print(f\"Средний вес мужчин: {mean_men:.2f} кг, стандартное отклонение: {std_men:.2f} кг\")"
   ]
  },
  {
   "cell_type": "code",
   "execution_count": 50,
   "metadata": {},
   "outputs": [
    {
     "data": {
      "image/png": "[encoded data removed]",
      "text/plain": [
       "<Figure size 432x288 with 1 Axes>"
      ]
     },
     "metadata": {
      "needs_background": "light"
     },
     "output_type": "display_data"
    }
   ],
   "source": [
    "plt.boxplot([women_weights, men_weights], labels=['Женщины', 'Мужчины'])\n",
    "plt.title('Боксплот веса по группам')\n",
    "plt.ylabel('Вес (кг)')\n",
    "plt.show()"
   ]
  },
  {
   "cell_type": "code",
   "execution_count": 51,
   "metadata": {},
   "outputs": [
    {
     "data": {
      "image/png": "[encoded data removed]",
      "text/plain": [
       "<Figure size 432x288 with 1 Axes>"
      ]
     },
     "metadata": {
      "needs_background": "light"
     },
     "output_type": "display_data"
    }
   ],
   "source": [
    "plt.hist(women_weights, bins=5, alpha=0.7, label='Женщины', edgecolor='black')\n",
    "plt.hist(men_weights, bins=5, alpha=0.7, label='Мужчины', edgecolor='black')\n",
    "plt.title('Гистограммы веса для мужчин и женщин')\n",
    "plt.xlabel('Вес (кг)')\n",
    "plt.ylabel('Частота')\n",
    "plt.legend()\n",
    "plt.show()"
   ]
  },
  {
   "cell_type": "code",
   "execution_count": 52,
   "metadata": {},
   "outputs": [
    {
     "name": "stdout",
     "output_type": "stream",
     "text": [
      "Женщины - статистика Шапиро-Уилка: 0.9408, p-значение: 0.5618\n",
      "Мужчины - статистика Шапиро-Уилка: 0.8679, p-значение: 0.0944\n"
     ]
    }
   ],
   "source": [
    "shapiro_women_stat, shapiro_women_p = stats.shapiro(women_weights)\n",
    "shapiro_men_stat, shapiro_men_p = stats.shapiro(men_weights)\n",
    "\n",
    "print(f\"Женщины - статистика Шапиро-Уилка: {shapiro_women_stat:.4f}, p-значение: {shapiro_women_p:.4f}\")\n",
    "print(f\"Мужчины - статистика Шапиро-Уилка: {shapiro_men_stat:.4f}, p-значение: {shapiro_men_p:.4f}\")"
   ]
  },
  {
   "cell_type": "code",
   "execution_count": 53,
   "metadata": {},
   "outputs": [
    {
     "data": {
      "image/png": "[encoded data removed]",
      "text/plain": [
       "<Figure size 864x360 with 2 Axes>"
      ]
     },
     "metadata": {
      "needs_background": "light"
     },
     "output_type": "display_data"
    }
   ],
   "source": [
    "plt.figure(figsize=(12, 5))\n",
    "\n",
    "plt.subplot(1, 2, 1)\n",
    "stats.probplot(women_weights, dist=\"norm\", plot=plt)\n",
    "plt.title('QQ-плот для женщин')\n",
    "\n",
    "plt.subplot(1, 2, 2)\n",
    "stats.probplot(men_weights, dist=\"norm\", plot=plt)\n",
    "plt.title('QQ-плот для мужчин')\n",
    "\n",
    "plt.tight_layout()\n",
    "plt.show()"
   ]
  },
  {
   "cell_type": "markdown",
   "metadata": {},
   "source": [
    "данные распрелены нормально"
   ]
  },
  {
   "cell_type": "code",
   "execution_count": 56,
   "metadata": {},
   "outputs": [
    {
     "name": "stdout",
     "output_type": "stream",
     "text": [
      "Частота ошибки первого рода: 3.00%\n"
     ]
    }
   ],
   "source": [
    "num_tests = 10000  \n",
    "alpha = 0.05      \n",
    "significant_results = 0  \n",
    "\n",
    "def perform_aa_test(data):\n",
    "    shuffled_data = np.random.permutation(data)\n",
    "    midpoint = len(shuffled_data) // 2\n",
    "    group_A = shuffled_data[:midpoint]\n",
    "    group_B = shuffled_data[midpoint:]\n",
    "    t_stat, p_value = stats.ttest_ind(group_A, group_B, equal_var=False)\n",
    "    return p_value\n",
    "\n",
    "for _ in range(num_tests):\n",
    "    p_val = perform_aa_test(women_weights)\n",
    "    if p_val < alpha:\n",
    "        significant_results += 1\n",
    "\n",
    "type_I_error_rate = significant_results / num_tests * 100\n",
    "print(f\"Частота ошибки первого рода: {type_I_error_rate:.2f}%\")"
   ]
  },
  {
   "cell_type": "code",
   "execution_count": 59,
   "metadata": {},
   "outputs": [
    {
     "name": "stdout",
     "output_type": "stream",
     "text": [
      "Частота ошибки первого рода: 2.43%\n"
     ]
    }
   ],
   "source": [
    "num_tests = 10000  \n",
    "alpha = 0.05      \n",
    "significant_results = 0  \n",
    "\n",
    "def perform_aa_test(data):\n",
    "    shuffled_data = np.random.permutation(data)\n",
    "    midpoint = len(shuffled_data) // 2\n",
    "    group_A = shuffled_data[:midpoint]\n",
    "    group_B = shuffled_data[midpoint:]\n",
    "    t_stat, p_value = stats.ttest_ind(group_A, group_B, equal_var=False)\n",
    "    return p_value\n",
    "\n",
    "for _ in range(num_tests):\n",
    "    p_val = perform_aa_test(men_weights)\n",
    "    if p_val < alpha:\n",
    "        significant_results += 1\n",
    "\n",
    "type_I_error_rate = significant_results / num_tests * 100\n",
    "print(f\"Частота ошибки первого рода: {type_I_error_rate:.2f}%\")"
   ]
  },
  {
   "cell_type": "code",
   "execution_count": 63,
   "metadata": {},
   "outputs": [
    {
     "name": "stdout",
     "output_type": "stream",
     "text": [
      "Power: 4.54%\n"
     ]
    }
   ],
   "source": [
    "num_tests = 10000  \n",
    "alpha = 0.05      \n",
    "significant_results = 0  \n",
    "\n",
    "def perform_aa_test(data):\n",
    "    shuffled_data = np.random.permutation(data)\n",
    "    midpoint = len(shuffled_data) // 2\n",
    "    group_A = shuffled_data[:midpoint]\n",
    "    group_B = shuffled_data[midpoint:] - 3\n",
    "    t_stat, p_value = stats.ttest_ind(group_A, group_B, equal_var=False)\n",
    "    return p_value\n",
    "\n",
    "for _ in range(num_tests):\n",
    "    p_val = perform_aa_test(men_weights)\n",
    "    if p_val < alpha:\n",
    "        significant_results += 1\n",
    "\n",
    "power = significant_results / num_tests * 100\n",
    "print(f\"Power: {power:.2f}%\")"
   ]
  },
  {
   "cell_type": "code",
   "execution_count": 72,
   "metadata": {},
   "outputs": [
    {
     "name": "stdout",
     "output_type": "stream",
     "text": [
      "t-статистика : -3.12, p-значение: 0.0070\n"
     ]
    }
   ],
   "source": [
    "t_stat_ind, p_value_ind = stats.ttest_ind(women_weights, men_weights, equal_var=False)\n",
    "print(f\"t-статистика : {t_stat_ind:.2f}, p-значение: {p_value_ind:.4f}\")"
   ]
  },
  {
   "cell_type": "code",
   "execution_count": 66,
   "metadata": {},
   "outputs": [
    {
     "name": "stdout",
     "output_type": "stream",
     "text": [
      "Частота ошибки первого рода (Манна-Уитни): 3.34%\n"
     ]
    }
   ],
   "source": [
    "significant_results_mw = 0\n",
    "\n",
    "for _ in range(num_tests):\n",
    "    shuffled_data = np.random.permutation(men_weights)\n",
    "    midpoint = len(shuffled_data) // 2\n",
    "    group_A = shuffled_data[:midpoint]\n",
    "    group_B = shuffled_data[midpoint:]\n",
    "    u_stat, p_value_mw = stats.mannwhitneyu(group_A, group_B, alternative='two-sided')\n",
    "    if p_value_mw < alpha:\n",
    "        significant_results_mw += 1\n",
    "\n",
    "type_I_error_rate_mw = significant_results_mw / num_tests * 100\n",
    "print(f\"Частота ошибки первого рода (Манна-Уитни): {type_I_error_rate_mw:.2f}%\")"
   ]
  },
  {
   "cell_type": "code",
   "execution_count": 67,
   "metadata": {},
   "outputs": [
    {
     "name": "stdout",
     "output_type": "stream",
     "text": [
      "power (Манна-Уитни): 5.44%\n"
     ]
    }
   ],
   "source": [
    "significant_results_mw = 0\n",
    "\n",
    "for _ in range(num_tests):\n",
    "    shuffled_data = np.random.permutation(men_weights)\n",
    "    midpoint = len(shuffled_data) // 2\n",
    "    group_A = shuffled_data[:midpoint]\n",
    "    group_B = shuffled_data[midpoint:] - 3\n",
    "    u_stat, p_value_mw = stats.mannwhitneyu(group_A, group_B, alternative='two-sided')\n",
    "    if p_value_mw < alpha:\n",
    "        significant_results_mw += 1\n",
    "\n",
    "power_mw = significant_results_mw / num_tests * 100\n",
    "print(f\"power (Манна-Уитни): {power_mw:.2f}%\")"
   ]
  },
  {
   "cell_type": "markdown",
   "metadata": {},
   "source": [
    "У Манна-Уитни мощность будет повыше, чем у t-test"
   ]
  },
  {
   "cell_type": "code",
   "execution_count": 70,
   "metadata": {},
   "outputs": [
    {
     "name": "stdout",
     "output_type": "stream",
     "text": [
      "Статистика теста Манна-Уитни: 83.0, p-значение: 0.0139\n"
     ]
    }
   ],
   "source": [
    "u_stat, p_value_mannwhitney = stats.mannwhitneyu(men_weights, women_weights, alternative='two-sided')\n",
    "print(f\"Статистика теста Манна-Уитни: {u_stat}, p-значение: {p_value_mannwhitney:.4f}\")"
   ]
  },
  {
   "cell_type": "markdown",
   "metadata": {},
   "source": [
    "Есть стат. значимые различия между весом у мужчин и женщин"
   ]
  },
  {
   "cell_type": "markdown",
   "metadata": {},
   "source": [
    "**Упражнение 3.** В файле seattle.txt записаны цены на недвижимость в одном из районов Сиэтла в 2001 году и в 2002 году (объекты недвижимости выбирались случайно). Изменились\n",
    "ли в среднем цены в этом районе за год?"
   ]
  },
  {
   "cell_type": "code",
   "execution_count": 73,
   "metadata": {},
   "outputs": [],
   "source": [
    "data = pd.read_csv('hw_2_data/seattle.txt', sep=\"\\t\")"
   ]
  },
  {
   "cell_type": "code",
   "execution_count": 74,
   "metadata": {},
   "outputs": [
    {
     "name": "stdout",
     "output_type": "stream",
     "text": [
      "Средняя цена в 2001 году: 288.93, стандартное отклонение: 157.78\n",
      "Средняя цена в 2002 году: 329.26, стандартное отклонение: 316.83\n"
     ]
    }
   ],
   "source": [
    "data_2001 = data[data['Year'] == 2001]['Price']\n",
    "data_2002 = data[data['Year'] == 2002]['Price']\n",
    "\n",
    "mean_2001 = data_2001.mean()\n",
    "std_2001 = data_2001.std()\n",
    "mean_2002 = data_2002.mean()\n",
    "std_2002 = data_2002.std()\n",
    "\n",
    "print(f\"Средняя цена в 2001 году: {mean_2001:.2f}, стандартное отклонение: {std_2001:.2f}\")\n",
    "print(f\"Средняя цена в 2002 году: {mean_2002:.2f}, стандартное отклонение: {std_2002:.2f}\")"
   ]
  },
  {
   "cell_type": "code",
   "execution_count": 75,
   "metadata": {},
   "outputs": [
    {
     "data": {
      "image/png": "[encoded data removed]",
      "text/plain": [
       "<Figure size 432x288 with 1 Axes>"
      ]
     },
     "metadata": {
      "needs_background": "light"
     },
     "output_type": "display_data"
    }
   ],
   "source": [
    "plt.boxplot([data_2001, data_2002], labels=['2001', '2002'])\n",
    "plt.title('Цены недвижимости (2001 vs 2002)')\n",
    "plt.ylabel('Цена')\n",
    "plt.show()"
   ]
  },
  {
   "cell_type": "code",
   "execution_count": 76,
   "metadata": {},
   "outputs": [
    {
     "data": {
      "image/png": "[encoded data removed]",
      "text/plain": [
       "<Figure size 432x288 with 1 Axes>"
      ]
     },
     "metadata": {
      "needs_background": "light"
     },
     "output_type": "display_data"
    }
   ],
   "source": [
    "plt.hist(data_2001, bins=20, alpha=0.7, label='2001', edgecolor='black')\n",
    "plt.hist(data_2002, bins=20, alpha=0.7, label='2002', edgecolor='black')\n",
    "plt.title('2001 vs 2002')\n",
    "plt.xlabel('Цена')\n",
    "plt.ylabel('Частота')\n",
    "plt.legend()\n",
    "plt.show()"
   ]
  },
  {
   "cell_type": "markdown",
   "metadata": {},
   "source": [
    "Уже по боксплоту и гистограмме можно увидеть, что нет различий между этими группами, но проведем тесты..."
   ]
  },
  {
   "cell_type": "code",
   "execution_count": 77,
   "metadata": {},
   "outputs": [
    {
     "name": "stdout",
     "output_type": "stream",
     "text": [
      "Тест Шапиро-Уилка для 2001 года: p-значение = 0.0394\n",
      "Тест Шапиро-Уилка для 2002 года: p-значение = 0.0000\n"
     ]
    }
   ],
   "source": [
    "shapiro_2001_stat, shapiro_2001_p = stats.shapiro(data_2001)\n",
    "shapiro_2002_stat, shapiro_2002_p = stats.shapiro(data_2002)\n",
    "\n",
    "print(f\"Тест Шапиро-Уилка для 2001 года: p-значение = {shapiro_2001_p:.4f}\")\n",
    "print(f\"Тест Шапиро-Уилка для 2002 года: p-значение = {shapiro_2002_p:.4f}\")"
   ]
  },
  {
   "cell_type": "code",
   "execution_count": 81,
   "metadata": {},
   "outputs": [
    {
     "name": "stdout",
     "output_type": "stream",
     "text": [
      "Тест Левена: p-значение = 0.4449\n"
     ]
    }
   ],
   "source": [
    "levene_stat, levene_p = stats.levene(data_2001, data_2002)\n",
    "print(f\"Тест Левена: p-значение = {levene_p:.4f}\")"
   ]
  },
  {
   "cell_type": "code",
   "execution_count": 80,
   "metadata": {},
   "outputs": [
    {
     "name": "stdout",
     "output_type": "stream",
     "text": [
      "Частота ошибки первого рода: 4.88%\n"
     ]
    }
   ],
   "source": [
    "num_tests = 10000  \n",
    "alpha = 0.05      \n",
    "significant_results = 0  \n",
    "\n",
    "def perform_aa_test(data):\n",
    "    shuffled_data = np.random.permutation(data)\n",
    "    midpoint = len(shuffled_data) // 2\n",
    "    group_A = shuffled_data[:midpoint]\n",
    "    group_B = shuffled_data[midpoint:]\n",
    "    t_stat, p_value = stats.ttest_ind(group_A, group_B, equal_var=False)\n",
    "    return p_value\n",
    "\n",
    "for _ in range(num_tests):\n",
    "    p_val = perform_aa_test(data_2001)\n",
    "    if p_val < alpha:\n",
    "        significant_results += 1\n",
    "\n",
    "type_I_error_rate = significant_results / num_tests * 100\n",
    "print(f\"Частота ошибки первого рода: {type_I_error_rate:.2f}%\")"
   ]
  },
  {
   "cell_type": "code",
   "execution_count": 87,
   "metadata": {},
   "outputs": [
    {
     "name": "stdout",
     "output_type": "stream",
     "text": [
      "Мощность: 13.89%\n"
     ]
    }
   ],
   "source": [
    "num_tests = 10000  \n",
    "alpha = 0.05      \n",
    "significant_results = 0  \n",
    "\n",
    "def perform_aa_test(data):\n",
    "    shuffled_data = np.random.permutation(data)\n",
    "    midpoint = len(shuffled_data) // 2\n",
    "    group_A = shuffled_data[:midpoint]\n",
    "    group_B = shuffled_data[midpoint:] + 40\n",
    "    t_stat, p_value = stats.ttest_ind(group_A, group_B, equal_var=False)\n",
    "    return p_value\n",
    "\n",
    "for _ in range(num_tests):\n",
    "    p_val = perform_aa_test(data_2001)\n",
    "    if p_val < alpha:\n",
    "        significant_results += 1\n",
    "\n",
    "power = significant_results / num_tests * 100\n",
    "print(f\"Мощность: {power:.2f}%\")"
   ]
  },
  {
   "cell_type": "markdown",
   "metadata": {},
   "source": [
    "данные распределены ненормально, что в целом и логично, так как это цены, но это не мешает нам применять t-test, так как данных достаточно для обеспечения ошибки первого рода в районе 5%, мощность для изменения в 40 денежных единиц 13.89%, что мало"
   ]
  },
  {
   "cell_type": "code",
   "execution_count": 83,
   "metadata": {},
   "outputs": [
    {
     "name": "stdout",
     "output_type": "stream",
     "text": [
      "t-статистика: -0.81, p-значение: 0.4231\n"
     ]
    }
   ],
   "source": [
    "t_stat, p_value = stats.ttest_ind(data_2001, data_2002, equal_var=False)\n",
    "print(f\"t-статистика: {t_stat:.2f}, p-значение: {p_value:.4f}\")"
   ]
  },
  {
   "cell_type": "code",
   "execution_count": 88,
   "metadata": {},
   "outputs": [
    {
     "name": "stdout",
     "output_type": "stream",
     "text": [
      "Частота ошибки первого рода: 4.43%\n"
     ]
    }
   ],
   "source": [
    "num_tests = 10000  \n",
    "alpha = 0.05      \n",
    "significant_results = 0  \n",
    "\n",
    "def perform_aa_test(data):\n",
    "    shuffled_data = np.random.permutation(data)\n",
    "    midpoint = len(shuffled_data) // 2\n",
    "    group_A = shuffled_data[:midpoint]\n",
    "    group_B = shuffled_data[midpoint:] \n",
    "    t_stat, p_value = stats.mannwhitneyu(group_A, group_B, alternative='two-sided')\n",
    "    return p_value\n",
    "\n",
    "for _ in range(num_tests):\n",
    "    p_val = perform_aa_test(data_2001)\n",
    "    if p_val < alpha:\n",
    "        significant_results += 1\n",
    "\n",
    "type_I_error_rate = significant_results / num_tests * 100\n",
    "print(f\"Частота ошибки первого рода: {type_I_error_rate:.2f}%\")"
   ]
  },
  {
   "cell_type": "code",
   "execution_count": 89,
   "metadata": {},
   "outputs": [
    {
     "name": "stdout",
     "output_type": "stream",
     "text": [
      "Мощность: 13.52%\n"
     ]
    }
   ],
   "source": [
    "num_tests = 10000  \n",
    "alpha = 0.05      \n",
    "significant_results = 0  \n",
    "\n",
    "def perform_aa_test(data):\n",
    "    shuffled_data = np.random.permutation(data)\n",
    "    midpoint = len(shuffled_data) // 2\n",
    "    group_A = shuffled_data[:midpoint]\n",
    "    group_B = shuffled_data[midpoint:] + 40\n",
    "    t_stat, p_value = stats.mannwhitneyu(group_A, group_B, alternative='two-sided')\n",
    "    return p_value\n",
    "\n",
    "for _ in range(num_tests):\n",
    "    p_val = perform_aa_test(data_2001)\n",
    "    if p_val < alpha:\n",
    "        significant_results += 1\n",
    "\n",
    "power = significant_results / num_tests * 100\n",
    "print(f\"Мощность: {power:.2f}%\")"
   ]
  },
  {
   "cell_type": "code",
   "execution_count": 90,
   "metadata": {},
   "outputs": [
    {
     "name": "stdout",
     "output_type": "stream",
     "text": [
      "Статистика Манна-Уитни: 1295.5, p-значение: 0.7564\n"
     ]
    }
   ],
   "source": [
    "u_stat, p_value_mw = stats.mannwhitneyu(data_2001, data_2002, alternative='two-sided')\n",
    "print(f\"Статистика Манна-Уитни: {u_stat}, p-значение: {p_value_mw:.4f}\")"
   ]
  },
  {
   "cell_type": "markdown",
   "metadata": {},
   "source": [
    "Таким образом, не найдено стат значимых различий в ценах между 2001 и 2002 годом"
   ]
  },
  {
   "cell_type": "markdown",
   "metadata": {},
   "source": [
    "**Упражнение 4.** В рамках исследования эффективности препарата метилфенидат пациенты с синдромом дефицита внимания и гиперактивности в течение недели принимали либо метилфенидат, либо плацебо. В конце недели каждый пациент проходили тест на способность к подавлению импульсивных поведенческих реакций. На втором этапе плацебо и препарат менялись, и\n",
    "после недельного курса каждый испытуемые проходили второй тест. Был ли эффект от применения\n",
    "препарата? Данные находятся в файле methylphenidate.txt."
   ]
  },
  {
   "cell_type": "code",
   "execution_count": 94,
   "metadata": {
    "scrolled": true
   },
   "outputs": [
    {
     "data": {
      "text/html": [
       "<div>\n",
       "<style scoped>\n",
       "    .dataframe tbody tr th:only-of-type {\n",
       "        vertical-align: middle;\n",
       "    }\n",
       "\n",
       "    .dataframe tbody tr th {\n",
       "        vertical-align: top;\n",
       "    }\n",
       "\n",
       "    .dataframe thead th {\n",
       "        text-align: right;\n",
       "    }\n",
       "</style>\n",
       "<table border=\"1\" class=\"dataframe\">\n",
       "  <thead>\n",
       "    <tr style=\"text-align: right;\">\n",
       "      <th></th>\n",
       "      <th>Placebo</th>\n",
       "      <th>Methylphenidate</th>\n",
       "    </tr>\n",
       "  </thead>\n",
       "  <tbody>\n",
       "    <tr>\n",
       "      <th>0</th>\n",
       "      <td>57</td>\n",
       "      <td>62</td>\n",
       "    </tr>\n",
       "    <tr>\n",
       "      <th>1</th>\n",
       "      <td>27</td>\n",
       "      <td>49</td>\n",
       "    </tr>\n",
       "    <tr>\n",
       "      <th>2</th>\n",
       "      <td>32</td>\n",
       "      <td>30</td>\n",
       "    </tr>\n",
       "    <tr>\n",
       "      <th>3</th>\n",
       "      <td>31</td>\n",
       "      <td>34</td>\n",
       "    </tr>\n",
       "    <tr>\n",
       "      <th>4</th>\n",
       "      <td>34</td>\n",
       "      <td>38</td>\n",
       "    </tr>\n",
       "    <tr>\n",
       "      <th>5</th>\n",
       "      <td>38</td>\n",
       "      <td>36</td>\n",
       "    </tr>\n",
       "    <tr>\n",
       "      <th>6</th>\n",
       "      <td>71</td>\n",
       "      <td>77</td>\n",
       "    </tr>\n",
       "    <tr>\n",
       "      <th>7</th>\n",
       "      <td>33</td>\n",
       "      <td>51</td>\n",
       "    </tr>\n",
       "    <tr>\n",
       "      <th>8</th>\n",
       "      <td>34</td>\n",
       "      <td>45</td>\n",
       "    </tr>\n",
       "    <tr>\n",
       "      <th>9</th>\n",
       "      <td>53</td>\n",
       "      <td>42</td>\n",
       "    </tr>\n",
       "    <tr>\n",
       "      <th>10</th>\n",
       "      <td>36</td>\n",
       "      <td>43</td>\n",
       "    </tr>\n",
       "    <tr>\n",
       "      <th>11</th>\n",
       "      <td>42</td>\n",
       "      <td>57</td>\n",
       "    </tr>\n",
       "    <tr>\n",
       "      <th>12</th>\n",
       "      <td>26</td>\n",
       "      <td>36</td>\n",
       "    </tr>\n",
       "    <tr>\n",
       "      <th>13</th>\n",
       "      <td>52</td>\n",
       "      <td>58</td>\n",
       "    </tr>\n",
       "    <tr>\n",
       "      <th>14</th>\n",
       "      <td>36</td>\n",
       "      <td>35</td>\n",
       "    </tr>\n",
       "    <tr>\n",
       "      <th>15</th>\n",
       "      <td>55</td>\n",
       "      <td>60</td>\n",
       "    </tr>\n",
       "    <tr>\n",
       "      <th>16</th>\n",
       "      <td>36</td>\n",
       "      <td>33</td>\n",
       "    </tr>\n",
       "    <tr>\n",
       "      <th>17</th>\n",
       "      <td>42</td>\n",
       "      <td>49</td>\n",
       "    </tr>\n",
       "    <tr>\n",
       "      <th>18</th>\n",
       "      <td>36</td>\n",
       "      <td>33</td>\n",
       "    </tr>\n",
       "    <tr>\n",
       "      <th>19</th>\n",
       "      <td>54</td>\n",
       "      <td>59</td>\n",
       "    </tr>\n",
       "    <tr>\n",
       "      <th>20</th>\n",
       "      <td>34</td>\n",
       "      <td>35</td>\n",
       "    </tr>\n",
       "    <tr>\n",
       "      <th>21</th>\n",
       "      <td>29</td>\n",
       "      <td>37</td>\n",
       "    </tr>\n",
       "    <tr>\n",
       "      <th>22</th>\n",
       "      <td>33</td>\n",
       "      <td>45</td>\n",
       "    </tr>\n",
       "    <tr>\n",
       "      <th>23</th>\n",
       "      <td>33</td>\n",
       "      <td>29</td>\n",
       "    </tr>\n",
       "  </tbody>\n",
       "</table>\n",
       "</div>"
      ],
      "text/plain": [
       "    Placebo  Methylphenidate\n",
       "0        57               62\n",
       "1        27               49\n",
       "2        32               30\n",
       "3        31               34\n",
       "4        34               38\n",
       "5        38               36\n",
       "6        71               77\n",
       "7        33               51\n",
       "8        34               45\n",
       "9        53               42\n",
       "10       36               43\n",
       "11       42               57\n",
       "12       26               36\n",
       "13       52               58\n",
       "14       36               35\n",
       "15       55               60\n",
       "16       36               33\n",
       "17       42               49\n",
       "18       36               33\n",
       "19       54               59\n",
       "20       34               35\n",
       "21       29               37\n",
       "22       33               45\n",
       "23       33               29"
      ]
     },
     "execution_count": 94,
     "metadata": {},
     "output_type": "execute_result"
    }
   ],
   "source": [
    "data = pd.read_csv('hw_2_data/methylphenidate.txt', sep=\" \")\n",
    "data"
   ]
  },
  {
   "cell_type": "code",
   "execution_count": 95,
   "metadata": {},
   "outputs": [],
   "source": [
    "placebo = data['Placebo']\n",
    "methylphenidate = data['Methylphenidate']\n",
    "\n",
    "differences = methylphenidate - placebo"
   ]
  },
  {
   "cell_type": "code",
   "execution_count": 92,
   "metadata": {},
   "outputs": [
    {
     "name": "stdout",
     "output_type": "stream",
     "text": [
      "Средний результат (плацебо): 39.75, стандартное отклонение: 11.31\n",
      "Средний результат (метилфенидат): 44.71, стандартное отклонение: 12.32\n",
      "Средняя разница: 4.96\n"
     ]
    }
   ],
   "source": [
    "mean_placebo = placebo.mean()\n",
    "std_placebo = placebo.std()\n",
    "mean_methylphenidate = methylphenidate.mean()\n",
    "std_methylphenidate = methylphenidate.std()\n",
    "mean_difference = differences.mean()\n",
    "\n",
    "print(f\"Средний результат (плацебо): {mean_placebo:.2f}, стандартное отклонение: {std_placebo:.2f}\")\n",
    "print(f\"Средний результат (метилфенидат): {mean_methylphenidate:.2f}, стандартное отклонение: {std_methylphenidate:.2f}\")\n",
    "print(f\"Средняя разница: {mean_difference:.2f}\")"
   ]
  },
  {
   "cell_type": "code",
   "execution_count": 93,
   "metadata": {
    "scrolled": true
   },
   "outputs": [
    {
     "data": {
      "image/png": "[encoded data removed]",
      "text/plain": [
       "<Figure size 432x288 with 1 Axes>"
      ]
     },
     "metadata": {
      "needs_background": "light"
     },
     "output_type": "display_data"
    },
    {
     "data": {
      "image/png": "[encoded data removed]",
      "text/plain": [
       "<Figure size 432x288 with 1 Axes>"
      ]
     },
     "metadata": {
      "needs_background": "light"
     },
     "output_type": "display_data"
    }
   ],
   "source": [
    "plt.hist(differences, bins=10, edgecolor='black')\n",
    "plt.title('Гистограмма разниц (Метилфенидат - Плацебо)')\n",
    "plt.xlabel('Разница')\n",
    "plt.ylabel('Частота')\n",
    "plt.show()\n",
    "\n",
    "plt.boxplot([placebo, methylphenidate], labels=['Плацебо', 'Метилфенидат'])\n",
    "plt.title('boxplot (результаты тестов)')\n",
    "plt.ylabel('Результат')\n",
    "plt.show()"
   ]
  },
  {
   "cell_type": "code",
   "execution_count": 96,
   "metadata": {},
   "outputs": [
    {
     "name": "stdout",
     "output_type": "stream",
     "text": [
      "Тест Шапиро-Уилка для разниц: p-значение = 0.8923\n"
     ]
    }
   ],
   "source": [
    "shapiro_stat, shapiro_p = stats.shapiro(differences)\n",
    "print(f\"Тест Шапиро-Уилка для разниц: p-значение = {shapiro_p:.4f}\")"
   ]
  },
  {
   "cell_type": "code",
   "execution_count": 99,
   "metadata": {},
   "outputs": [
    {
     "name": "stdout",
     "output_type": "stream",
     "text": [
      "Частота ошибки первого рода: 4.74%\n"
     ]
    }
   ],
   "source": [
    "num_tests = 10000  \n",
    "alpha = 0.05      \n",
    "significant_results = 0  \n",
    "\n",
    "def perform_aa_test(data):\n",
    "    shuffled_data = np.random.permutation(data)\n",
    "    midpoint = len(shuffled_data) // 2\n",
    "    group_A = shuffled_data[:midpoint]\n",
    "    group_B = shuffled_data[midpoint:] \n",
    "    t_stat, p_value = stats.ttest_rel(group_A, group_B)\n",
    "    return p_value\n",
    "\n",
    "for _ in range(num_tests):\n",
    "    p_val = perform_aa_test(placebo)\n",
    "    if p_val < alpha:\n",
    "        significant_results += 1\n",
    "\n",
    "type_I_error_rate = significant_results / num_tests * 100\n",
    "print(f\"Частота ошибки первого рода: {type_I_error_rate:.2f}%\")"
   ]
  },
  {
   "cell_type": "code",
   "execution_count": 102,
   "metadata": {},
   "outputs": [
    {
     "name": "stdout",
     "output_type": "stream",
     "text": [
      "power: 15.70%\n"
     ]
    }
   ],
   "source": [
    "num_tests = 10000  \n",
    "alpha = 0.05      \n",
    "significant_results = 0  \n",
    "\n",
    "def perform_aa_test(data):\n",
    "    shuffled_data = np.random.permutation(data)\n",
    "    midpoint = len(shuffled_data) // 2\n",
    "    group_A = shuffled_data[:midpoint]\n",
    "    group_B = shuffled_data[midpoint:] + mean_difference\n",
    "    t_stat, p_value = stats.ttest_rel(group_A, group_B)\n",
    "    return p_value\n",
    "\n",
    "for _ in range(num_tests):\n",
    "    p_val = perform_aa_test(placebo)\n",
    "    if p_val < alpha:\n",
    "        significant_results += 1\n",
    "\n",
    "power = significant_results / num_tests * 100\n",
    "print(f\"power: {power:.2f}%\")"
   ]
  },
  {
   "cell_type": "code",
   "execution_count": 103,
   "metadata": {},
   "outputs": [
    {
     "name": "stdout",
     "output_type": "stream",
     "text": [
      "t-тест: t-статистика = 3.22, p-значение = 0.0038\n"
     ]
    }
   ],
   "source": [
    "t_stat, p_value = stats.ttest_rel(methylphenidate, placebo)\n",
    "print(f\"t-тест: t-статистика = {t_stat:.2f}, p-значение = {p_value:.4f}\")"
   ]
  },
  {
   "cell_type": "markdown",
   "metadata": {},
   "source": [
    "Наблюдается стат значимый эффект от применения препарата"
   ]
  }
 ],
 "metadata": {
  "kernelspec": {
   "display_name": "Python 3",
   "language": "python",
   "name": "python3"
  },
  "language_info": {
   "codemirror_mode": {
    "name": "ipython",
    "version": 3
   },
   "file_extension": ".py",
   "mimetype": "text/x-python",
   "name": "python",
   "nbconvert_exporter": "python",
   "pygments_lexer": "ipython3",
   "version": "3.8.5"
  }
 },
 "nbformat": 4,
 "nbformat_minor": 4
}
