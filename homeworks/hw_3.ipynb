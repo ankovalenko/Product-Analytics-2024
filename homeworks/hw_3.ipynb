{
 "cells": [
  {
   "cell_type": "code",
   "execution_count": 2,
   "id": "9adea4cc",
   "metadata": {},
   "outputs": [],
   "source": [
    "import pandas as pd\n",
    "pd.set_option('display.max_colwidth', None)\n"
   ]
  },
  {
   "cell_type": "markdown",
   "id": "a217647e",
   "metadata": {},
   "source": [
    "## 1. Обзор эксперимента\n",
    "\n",
    "**Название эксперимента: Баннер «Бесплатная пробная версия».**\n",
    "\n",
    "Платформа онлайн-курсов решила провести эксперимент с  бизнес-целью — максимально увеличить количество студентов, проходящих курс.\n",
    "\n",
    "### 1.1 Текущие условия до изменений\n",
    "\n",
    "На момент проведения этого эксперимента курсы платформы  имеют две опции на странице обзора курса: «начать бесплатную пробную версию» и «получить доступ к материалам курса».\n",
    "\n",
    "Если студент нажмет «Начать бесплатную пробную версию», ему будет предложено ввести данные своей кредитной карты, после чего он будет зачислен на бесплатную пробную версию платной версии курса. Через 14 дней с него будет автоматически списана плата, если он не откажется заранее.\n",
    "\n",
    "Если студент нажмет «получить доступ к материалам курса», он сможет бесплатно просматривать видео и проходить тесты, но не получит коучинговой поддержки или подтвержденного сертификата и не отправит свой окончательный проект на отзыв.\n",
    "\n",
    "\n",
    "### 1.2 Описание экспериментального изменения\n",
    "\n",
    "В ходе эксперимента платформа хочет протестировать изменение: если студент нажимает «начать бесплатную пробную версию», его спрашивают, сколько времени он может посвятить курсу.\n",
    "Если студент указал 5 или более часов в неделю, он будет проходить процедуру оформления заказа как обычно.\n",
    "Если он укажет менее 5 часов в неделю, то появится сообщение о том, что курсы обычно требуют больше времени для успешного завершения, и что студент может захотеть получить доступ к материалам курса бесплатно.\n",
    "\n",
    "На этом этапе у студента будет возможность продолжить регистрацию на бесплатную пробную версию или вместо этого получить бесплатный доступ к материалам курса. \n",
    "\n",
    "\n",
    "### 1.3 Гипотеза эксперимента\n",
    "\n",
    "Гипотеза заключается в том, что это помогло бы заранее установить более четкие ожидания для студентов, тем самым уменьшая количество разочарованных студентов, которые покинули бесплатную пробную версию, потому что у них нет достаточного количества времени.\n",
    "\n",
    "При этом мы не хотим значительно сокращать количество студентов, которые продолжили бы бесплатную пробную версию и в конечном итоге завершили ее (то есть оплатили курс). Если бы эта гипотеза подтвердилась, платформа смогла бы улучшить общий опыт студентов и улучшить способность преподавателей поддерживать студентов, которые с большой вероятностью завершат курс.\n",
    "\n",
    "\n",
    "### 1.4 Детали эксперимента\n",
    "\n",
    "Идентификатором отслеживания является файл cookie, но если учащийся записывается на бесплатную пробную версию, с этого момента он отслеживается по user-id. Один и тот же uder-id не может дважды зарегистрироваться в бесплатной пробной версии. Uder-id, которые не регистрируются, не отслеживаются в эксперименте, даже если они вошли в систему при посещении страницы обзора курса."
   ]
  },
  {
   "cell_type": "markdown",
   "id": "75850644",
   "metadata": {},
   "source": [
    "## 2. Оценка текущей ситуации"
   ]
  },
  {
   "cell_type": "markdown",
   "id": "bf609cb3",
   "metadata": {},
   "source": [
    "Перед тем как приступить к эксперименту, нужно знать текущие оценки метрик на платформе:\n",
    "\n"
   ]
  },
  {
   "cell_type": "code",
   "execution_count": 3,
   "id": "3871f32d",
   "metadata": {},
   "outputs": [],
   "source": [
    "baseline_df = pd.read_csv('hw_3_data/baseline_vals.csv' )"
   ]
  },
  {
   "cell_type": "code",
   "execution_count": 4,
   "id": "62f9a6bd",
   "metadata": {},
   "outputs": [
    {
     "data": {
      "text/html": [
       "<div>\n",
       "<style scoped>\n",
       "    .dataframe tbody tr th:only-of-type {\n",
       "        vertical-align: middle;\n",
       "    }\n",
       "\n",
       "    .dataframe tbody tr th {\n",
       "        vertical-align: top;\n",
       "    }\n",
       "\n",
       "    .dataframe thead th {\n",
       "        text-align: right;\n",
       "    }\n",
       "</style>\n",
       "<table border=\"1\" class=\"dataframe\">\n",
       "  <thead>\n",
       "    <tr style=\"text-align: right;\">\n",
       "      <th></th>\n",
       "      <th>metric_name</th>\n",
       "      <th>metric</th>\n",
       "      <th>baseline_value</th>\n",
       "    </tr>\n",
       "  </thead>\n",
       "  <tbody>\n",
       "    <tr>\n",
       "      <th>0</th>\n",
       "      <td>Number of cookies</td>\n",
       "      <td>Unique cookies to view page per day:</td>\n",
       "      <td>40000.000000</td>\n",
       "    </tr>\n",
       "    <tr>\n",
       "      <th>1</th>\n",
       "      <td>Number of clicks</td>\n",
       "      <td>Unique cookies to click \"Start free trial\" per day:</td>\n",
       "      <td>3200.000000</td>\n",
       "    </tr>\n",
       "    <tr>\n",
       "      <th>2</th>\n",
       "      <td>Number of enrollments</td>\n",
       "      <td>Enrollments per day:</td>\n",
       "      <td>660.000000</td>\n",
       "    </tr>\n",
       "    <tr>\n",
       "      <th>3</th>\n",
       "      <td>CTP</td>\n",
       "      <td>Click-through-probability on \"Start free trial\":</td>\n",
       "      <td>0.080000</td>\n",
       "    </tr>\n",
       "    <tr>\n",
       "      <th>4</th>\n",
       "      <td>Gross Conversion</td>\n",
       "      <td>Probability of enrolling, given click:</td>\n",
       "      <td>0.206250</td>\n",
       "    </tr>\n",
       "    <tr>\n",
       "      <th>5</th>\n",
       "      <td>Retention</td>\n",
       "      <td>Probability of payment, given enroll:</td>\n",
       "      <td>0.530000</td>\n",
       "    </tr>\n",
       "    <tr>\n",
       "      <th>6</th>\n",
       "      <td>Net Conversion</td>\n",
       "      <td>Probability of payment, given click</td>\n",
       "      <td>0.109313</td>\n",
       "    </tr>\n",
       "  </tbody>\n",
       "</table>\n",
       "</div>"
      ],
      "text/plain": [
       "             metric_name                                               metric  \\\n",
       "0      Number of cookies                 Unique cookies to view page per day:   \n",
       "1       Number of clicks  Unique cookies to click \"Start free trial\" per day:   \n",
       "2  Number of enrollments                                 Enrollments per day:   \n",
       "3                    CTP     Click-through-probability on \"Start free trial\":   \n",
       "4       Gross Conversion               Probability of enrolling, given click:   \n",
       "5              Retention                Probability of payment, given enroll:   \n",
       "6         Net Conversion                  Probability of payment, given click   \n",
       "\n",
       "   baseline_value  \n",
       "0    40000.000000  \n",
       "1     3200.000000  \n",
       "2      660.000000  \n",
       "3        0.080000  \n",
       "4        0.206250  \n",
       "5        0.530000  \n",
       "6        0.109313  "
      ]
     },
     "execution_count": 4,
     "metadata": {},
     "output_type": "execute_result"
    }
   ],
   "source": [
    "baseline_df"
   ]
  },
  {
   "cell_type": "markdown",
   "id": "f7081cf3",
   "metadata": {},
   "source": [
    "**Описание метрик:**\n",
    "\n",
    "**Number of cookies** -Количество уникальных файлов cookie (=количество пользователей) просмотревших страницу обзора курса в день  \n",
    "\n",
    "**Number of clicks** - Количество уникальных файлов cookie (=количество пользователей) кликнувших на «Начать бесплатную пробную версию». (Что происходит до того, как появится новый баннер).\n",
    "\n",
    "**Number of enrollments** - Количество зачислений на курс в день. (Прошли ввод карты)\n",
    "\n",
    "**CTP** - Конверсия из просмотра страницы в клик на «Начать бесплатную пробную версию»\n",
    "\n",
    "**Gross Conversion** - Конверсия из клика на «Начать бесплатную пробную версию» в зачисление на курс\n",
    "\n",
    "**Retention** - Конверсия из зачисления на курс в оплату (По истечении бесплатных 2 недель)\n",
    "\n",
    "**Net Conversion** - Конверсия из клика на «Начать бесплатную пробную версию» в оплату (По истечении бесплатных 2 недель)\n",
    " "
   ]
  },
  {
   "cell_type": "markdown",
   "id": "0939b412",
   "metadata": {},
   "source": [
    "## 3. Дизайн эксперимента"
   ]
  },
  {
   "cell_type": "markdown",
   "id": "c02a8589",
   "metadata": {},
   "source": [
    "### 3.1 Выбор метрик"
   ]
  },
  {
   "cell_type": "markdown",
   "id": "ada9191b",
   "metadata": {},
   "source": [
    "Какие из имеющихся показателей вы бы выбрали для измерения в этом эксперименте и почему? \n",
    "Для каждой выбранной вами метрики укажите, будете ли вы использовать ее в качестве основной метрики или валидационной. (Вы можете выбрать одну или большое одной основной метрики, но не стоит относить к основным слишком много метрик)."
   ]
  },
  {
   "cell_type": "markdown",
   "id": "0ff68aad",
   "metadata": {},
   "source": [
    "***Ваш ответ***:"
   ]
  },
  {
   "cell_type": "markdown",
   "id": "1fbae23b",
   "metadata": {},
   "source": []
  },
  {
   "cell_type": "markdown",
   "id": "a3687865",
   "metadata": {},
   "source": [
    "### 3.2 MDE (Minimal Detectable Effect)"
   ]
  },
  {
   "cell_type": "markdown",
   "id": "64329411",
   "metadata": {},
   "source": [
    "Вы получили от бизнеса информацию о том, какое изменение каждой метрики принесло бы практическое значение для бизнеса. (Значения абсолютные)\n",
    "\n",
    "\n",
    "**Number of cookies**: d_min = 3000\n",
    "\n",
    "**Number of clicks**: d_min = 240\n",
    "\n",
    "**Number of enrollments**: d_min = 50\n",
    "\n",
    "**CTP**: d_min = 0.01\n",
    "\n",
    "**Gross Conversion**: d_min = 0.01\n",
    "\n",
    "**Retention**: d_min = 0.01\n",
    "\n",
    "**Net Conversion**: d_min = 0.0075\n",
    " "
   ]
  },
  {
   "cell_type": "markdown",
   "id": "d321b0f5",
   "metadata": {},
   "source": [
    "Однако вы понимаете, что не все метрики можно увеличить этим экспериментом. Например, некоторые валидационные метрики могут служить просто проверкой, sanity-check-ом, что эксперимент идет нормально.\n",
    "\n",
    "Согласно гипотезе эксперимента, для каждой выбранной вами метрике в пункте 3.1 опишите какое поведение вы от нее ожидаете. Если вы считаете, что метрика должна увеличиться - то используйте mde, который дал вам бизнес.\n",
    "\n",
    "Если вы указали несколько основных метрик, то ответьте на вопрос - для того чтобы вы признали эксперимент успешным, вам необходимо увидеть статзначимый и существенный результат для всех этих метрик? "
   ]
  },
  {
   "cell_type": "markdown",
   "id": "5b9239b4",
   "metadata": {},
   "source": [
    "***Ваш ответ***:"
   ]
  },
  {
   "cell_type": "markdown",
   "id": "1459e608",
   "metadata": {},
   "source": []
  },
  {
   "cell_type": "markdown",
   "id": "681acf6e",
   "metadata": {},
   "source": [
    "### 3.3 Размер выборок / Sample Size"
   ]
  },
  {
   "cell_type": "markdown",
   "id": "01d7edec",
   "metadata": {},
   "source": [
    "Для каждой основной метрики, которую вы выбрали в п 3.1 посчитайте необходимый размер выборок для того чтобы увидеть нужный mde.\n",
    "Каждый sample size пересчитайте в терминах посещений страницы (pageviews). Используйте формулу из лекции.\n",
    "\n",
    "***Примечание 1:***\n",
    "Не забудьте, что если вы считаете размер выборки, например, для метрики Gross Conversion, то формула даст вам результат в количестве кликов, а не посещений страницы. Это значит, что полученное n для Gross Conversion нужно разделить на 0.08, чтобы получить значение в количестве посещений страницы. Аналогично для каждой метрики.\n",
    "\n",
    "\n",
    "***Примечание 2:***\n",
    "Статистическую значимость и мощность используйте по своему усмотрению, можно использовать стандартные значения (0.05 и 0.8)\n",
    "\n",
    "\n",
    "***Примечание 3:*** z-scores в питоне можно получить с помощью этой функции https://docs.scipy.org/doc/scipy/reference/generated/scipy.stats.norm.html\n"
   ]
  },
  {
   "cell_type": "code",
   "execution_count": 56,
   "id": "a1d3c12f",
   "metadata": {},
   "outputs": [],
   "source": [
    "def get_sample_size(p, alpha, power, d_min): \n",
    "    pass\n",
    "    # Your Code Here\n",
    "    # return n"
   ]
  },
  {
   "cell_type": "code",
   "execution_count": null,
   "id": "adba3dd5",
   "metadata": {},
   "outputs": [],
   "source": []
  },
  {
   "cell_type": "markdown",
   "id": "64ccd4ea",
   "metadata": {},
   "source": [
    "После того как вы посчитали размер необходимого количества посещений странцы для каждой вашей метрики, посчитайте какое количество дней вам необходимо будет вести эксперимент, чтобы набрать такое значение. \n",
    "\n",
    "Не забудьте, что формула размера выборки даст вам n для каждой выборки (тестовой и контрольной), а не суммарно. (Для простоты можем считать, что мы будем использовать весь траффик страницы в нашем эксперименте.)\n",
    "\n",
    "Если для какой-то метрики количество дней получилось слишком большим, вы еще можете пересмотреть свой выбор основных метрик, так как эксперимент еще не запущен. (Если это так, то напишите об этом в ответе)"
   ]
  },
  {
   "cell_type": "markdown",
   "id": "186d86ce",
   "metadata": {},
   "source": [
    "***Ваш ответ***:"
   ]
  },
  {
   "cell_type": "markdown",
   "id": "812bbce1",
   "metadata": {},
   "source": []
  },
  {
   "cell_type": "markdown",
   "id": "b84b4859",
   "metadata": {},
   "source": [
    "## 4. Собираем результаты"
   ]
  },
  {
   "cell_type": "markdown",
   "id": "4e570f6d",
   "metadata": {},
   "source": [
    "Представьте, что эксперимент завершился. В файле experiment_data.csv вы найдете результаты для тестовой выборки, а в файле control_data.csv - для контрольной."
   ]
  },
  {
   "cell_type": "markdown",
   "id": "abab96c9",
   "metadata": {},
   "source": [
    "Описание столбцов:\n",
    "\n",
    "**Pageviews:** количество уникальных файлов cookie (=количество пользователей) просмотревших страницу обзора курса в этот день.\n",
    "\n",
    "**Clicks:** количество уникальных файлов cookie (=количество пользователей) кликнувших на \"Начать бесплатную пробную версию\" в этот день.\n",
    "\n",
    "**Enrollments:** количество уникальных пользователей, которые зарегистрировались в бесплатной пробной версии в этот день.\n",
    "\n",
    "**Payments:** количество уникальных пользователей, которые зарегистрировались в этот день и останутся зарегистрированными в течение 14 дней и, таким образом, произведут оплату. (Обратите внимание, что датой в этом столбце является дата регистрации (enrollment-а), а не дата платежа. Оплата произошла на 14 дней позже. "
   ]
  },
  {
   "cell_type": "code",
   "execution_count": 133,
   "id": "8b8ed15e",
   "metadata": {},
   "outputs": [],
   "source": [
    "experiment = pd.read_csv('hw_3_data/experiment_data.csv')\n",
    "control = pd.read_csv('hw_3_data/control_data.csv')"
   ]
  },
  {
   "cell_type": "code",
   "execution_count": 135,
   "id": "e9e6580e",
   "metadata": {},
   "outputs": [
    {
     "data": {
      "text/html": [
       "<div>\n",
       "<style scoped>\n",
       "    .dataframe tbody tr th:only-of-type {\n",
       "        vertical-align: middle;\n",
       "    }\n",
       "\n",
       "    .dataframe tbody tr th {\n",
       "        vertical-align: top;\n",
       "    }\n",
       "\n",
       "    .dataframe thead th {\n",
       "        text-align: right;\n",
       "    }\n",
       "</style>\n",
       "<table border=\"1\" class=\"dataframe\">\n",
       "  <thead>\n",
       "    <tr style=\"text-align: right;\">\n",
       "      <th></th>\n",
       "      <th>Date</th>\n",
       "      <th>Pageviews</th>\n",
       "      <th>Clicks</th>\n",
       "      <th>Enrollments</th>\n",
       "      <th>Payments</th>\n",
       "    </tr>\n",
       "  </thead>\n",
       "  <tbody>\n",
       "    <tr>\n",
       "      <th>0</th>\n",
       "      <td>Sat, Oct 11</td>\n",
       "      <td>13117.2</td>\n",
       "      <td>1166.2</td>\n",
       "      <td>178.5</td>\n",
       "      <td>57.8</td>\n",
       "    </tr>\n",
       "    <tr>\n",
       "      <th>1</th>\n",
       "      <td>Sun, Oct 12</td>\n",
       "      <td>15789.6</td>\n",
       "      <td>1334.5</td>\n",
       "      <td>197.2</td>\n",
       "      <td>154.7</td>\n",
       "    </tr>\n",
       "    <tr>\n",
       "      <th>2</th>\n",
       "      <td>Mon, Oct 13</td>\n",
       "      <td>17816.0</td>\n",
       "      <td>1502.8</td>\n",
       "      <td>246.5</td>\n",
       "      <td>134.3</td>\n",
       "    </tr>\n",
       "    <tr>\n",
       "      <th>3</th>\n",
       "      <td>Tue, Oct 14</td>\n",
       "      <td>16773.9</td>\n",
       "      <td>1405.9</td>\n",
       "      <td>234.6</td>\n",
       "      <td>156.4</td>\n",
       "    </tr>\n",
       "    <tr>\n",
       "      <th>4</th>\n",
       "      <td>Wed, Oct 15</td>\n",
       "      <td>16648.1</td>\n",
       "      <td>1414.4</td>\n",
       "      <td>238.0</td>\n",
       "      <td>159.8</td>\n",
       "    </tr>\n",
       "  </tbody>\n",
       "</table>\n",
       "</div>"
      ],
      "text/plain": [
       "          Date  Pageviews  Clicks  Enrollments  Payments\n",
       "0  Sat, Oct 11    13117.2  1166.2        178.5      57.8\n",
       "1  Sun, Oct 12    15789.6  1334.5        197.2     154.7\n",
       "2  Mon, Oct 13    17816.0  1502.8        246.5     134.3\n",
       "3  Tue, Oct 14    16773.9  1405.9        234.6     156.4\n",
       "4  Wed, Oct 15    16648.1  1414.4        238.0     159.8"
      ]
     },
     "execution_count": 135,
     "metadata": {},
     "output_type": "execute_result"
    }
   ],
   "source": [
    "experiment.head()"
   ]
  },
  {
   "cell_type": "code",
   "execution_count": 136,
   "id": "98125c57",
   "metadata": {},
   "outputs": [
    {
     "data": {
      "text/html": [
       "<div>\n",
       "<style scoped>\n",
       "    .dataframe tbody tr th:only-of-type {\n",
       "        vertical-align: middle;\n",
       "    }\n",
       "\n",
       "    .dataframe tbody tr th {\n",
       "        vertical-align: top;\n",
       "    }\n",
       "\n",
       "    .dataframe thead th {\n",
       "        text-align: right;\n",
       "    }\n",
       "</style>\n",
       "<table border=\"1\" class=\"dataframe\">\n",
       "  <thead>\n",
       "    <tr style=\"text-align: right;\">\n",
       "      <th></th>\n",
       "      <th>Date</th>\n",
       "      <th>Pageviews</th>\n",
       "      <th>Clicks</th>\n",
       "      <th>Enrollments</th>\n",
       "      <th>Payments</th>\n",
       "    </tr>\n",
       "  </thead>\n",
       "  <tbody>\n",
       "    <tr>\n",
       "      <th>0</th>\n",
       "      <td>Sat, Oct 11</td>\n",
       "      <td>13129.1</td>\n",
       "      <td>1167.9</td>\n",
       "      <td>227.8</td>\n",
       "      <td>119.0</td>\n",
       "    </tr>\n",
       "    <tr>\n",
       "      <th>1</th>\n",
       "      <td>Sun, Oct 12</td>\n",
       "      <td>15473.4</td>\n",
       "      <td>1324.3</td>\n",
       "      <td>249.9</td>\n",
       "      <td>119.0</td>\n",
       "    </tr>\n",
       "    <tr>\n",
       "      <th>2</th>\n",
       "      <td>Mon, Oct 13</td>\n",
       "      <td>17868.7</td>\n",
       "      <td>1545.3</td>\n",
       "      <td>283.9</td>\n",
       "      <td>161.5</td>\n",
       "    </tr>\n",
       "    <tr>\n",
       "      <th>3</th>\n",
       "      <td>Tue, Oct 14</td>\n",
       "      <td>16780.7</td>\n",
       "      <td>1421.2</td>\n",
       "      <td>265.2</td>\n",
       "      <td>178.5</td>\n",
       "    </tr>\n",
       "    <tr>\n",
       "      <th>4</th>\n",
       "      <td>Wed, Oct 15</td>\n",
       "      <td>17023.8</td>\n",
       "      <td>1422.9</td>\n",
       "      <td>277.1</td>\n",
       "      <td>108.8</td>\n",
       "    </tr>\n",
       "  </tbody>\n",
       "</table>\n",
       "</div>"
      ],
      "text/plain": [
       "          Date  Pageviews  Clicks  Enrollments  Payments\n",
       "0  Sat, Oct 11    13129.1  1167.9        227.8     119.0\n",
       "1  Sun, Oct 12    15473.4  1324.3        249.9     119.0\n",
       "2  Mon, Oct 13    17868.7  1545.3        283.9     161.5\n",
       "3  Tue, Oct 14    16780.7  1421.2        265.2     178.5\n",
       "4  Wed, Oct 15    17023.8  1422.9        277.1     108.8"
      ]
     },
     "execution_count": 136,
     "metadata": {},
     "output_type": "execute_result"
    }
   ],
   "source": [
    "control.head()"
   ]
  },
  {
   "cell_type": "markdown",
   "id": "cdebabc9",
   "metadata": {},
   "source": [
    "### 4.1 Sanity-check\n",
    "\n",
    "Сначала проверьте валидационные метрики. Проверьте результаты эксперимента на соответсвие вашим ожиданиям по поведению метрик, выведете результаты."
   ]
  },
  {
   "cell_type": "code",
   "execution_count": null,
   "id": "3eb6ddce",
   "metadata": {},
   "outputs": [],
   "source": []
  },
  {
   "cell_type": "markdown",
   "id": "82797412",
   "metadata": {},
   "source": [
    "### 4.2 Проверка основных метрик"
   ]
  },
  {
   "cell_type": "markdown",
   "id": "c353e2da",
   "metadata": {},
   "source": [
    "Теперь проверьте результаты эксперимента на соответсвие вашим ожиданиям по поведению основных метрик для успешного завершения эксперимента. По основной или основным метрикам выведете изменения, а также стат. значимость результата. Не забудьте правильно выбрать тест для проверки статистической значимости."
   ]
  },
  {
   "cell_type": "code",
   "execution_count": null,
   "id": "baadaf5c",
   "metadata": {},
   "outputs": [],
   "source": []
  },
  {
   "cell_type": "markdown",
   "id": "48e3048d",
   "metadata": {},
   "source": [
    "## 5. Выводы и рекомендации"
   ]
  },
  {
   "cell_type": "markdown",
   "id": "d7a245f8",
   "metadata": {},
   "source": [
    "Напишите свои выводы и рекомендации для бизнеса. \n",
    "Чтобы вы рекомендовали - выкатить изменения / провести еще эксперименты, опирающиеся на выводы по текущему / оставить эту идею.\n",
    "Если вы планируете провести последующие эксперименты, кратко опишите этот эксперимент и гипотезы, которые вы хотели бы еще протестировать. \n"
   ]
  },
  {
   "cell_type": "markdown",
   "id": "5c4e8b97",
   "metadata": {},
   "source": [
    "***Ваш ответ:***"
   ]
  },
  {
   "cell_type": "markdown",
   "id": "21ae88f8",
   "metadata": {},
   "source": []
  },
  {
   "cell_type": "code",
   "execution_count": null,
   "id": "c61c9ef1",
   "metadata": {},
   "outputs": [],
   "source": []
  }
 ],
 "metadata": {
  "kernelspec": {
   "display_name": "Python 3 (ipykernel)",
   "language": "python",
   "name": "python3"
  },
  "language_info": {
   "codemirror_mode": {
    "name": "ipython",
    "version": 3
   },
   "file_extension": ".py",
   "mimetype": "text/x-python",
   "name": "python",
   "nbconvert_exporter": "python",
   "pygments_lexer": "ipython3",
   "version": "3.13.0"
  }
 },
 "nbformat": 4,
 "nbformat_minor": 5
}
